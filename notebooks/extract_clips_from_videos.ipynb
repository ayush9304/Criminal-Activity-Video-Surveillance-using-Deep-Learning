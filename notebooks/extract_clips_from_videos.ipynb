{
 "cells": [
  {
   "cell_type": "code",
   "execution_count": 1,
   "id": "c40d718c-877a-492c-9b61-89b762137450",
   "metadata": {
    "tags": []
   },
   "outputs": [],
   "source": [
    "import os\n",
    "from moviepy import editor\n",
    "from tqdm.notebook import tqdm_notebook"
   ]
  },
  {
   "cell_type": "code",
   "execution_count": 6,
   "id": "6d127a65-21c2-4058-bad2-8d6800b4a70a",
   "metadata": {},
   "outputs": [],
   "source": [
    "def get_time(timestamp, e=0, max_t=None):\n",
    "    if e>0 and max_t is None:\n",
    "        print(\"Please provide max_t\")\n",
    "        return\n",
    "    if \":\" in timestamp:\n",
    "        minute = int(timestamp.split(\":\")[0])*60\n",
    "        second = float(timestamp.split(\":\")[1])\n",
    "        t = minute + second\n",
    "        return max(t+e, 0) if e<0 else min(t+e, max_t)\n",
    "    else:\n",
    "        try:\n",
    "            return max(float(timestamp)+e, 0) if e<0 else min(float(timestamp)+e, max_t)\n",
    "        except Exception as e:\n",
    "            print(e)"
   ]
  },
  {
   "cell_type": "code",
   "execution_count": 7,
   "id": "208b7318-a9b9-467d-ba31-1a202b324589",
   "metadata": {},
   "outputs": [],
   "source": [
    "def get_filename(file, n):\n",
    "    ext = \".\"+file.split('.')[-1]\n",
    "    new_name = file[:-len(ext)] + \"_\" + str(n) + ext\n",
    "    return new_name"
   ]
  },
  {
   "cell_type": "code",
   "execution_count": 11,
   "id": "df39f8c3-3e29-4872-8e47-2c547705c24a",
   "metadata": {},
   "outputs": [],
   "source": [
    "def extract_clips(data_dir, root=\"Data\", output_root=\"Processed-Videos\", gap=2, skip_classes=[]):\n",
    "    base_path = os.path.join(root, data_dir)\n",
    "    if not os.path.exists(base_path):\n",
    "        print(f\"{base_path} does not exists.\")\n",
    "        return\n",
    "    subdirs = []\n",
    "    for d in os.listdir(base_path):\n",
    "        if os.path.isdir(os.path.join(base_path, d)):\n",
    "            subdirs.append(d)\n",
    "    for d in subdirs:\n",
    "        if d in skip_classes:\n",
    "            continue\n",
    "        os.mkdir(os.path.join(root, output_root, d))\n",
    "        file = open(os.path.join(base_path, f\"{d}_Labels.txt\"), mode='r', encoding='utf-8')\n",
    "        lines = file.readlines()\n",
    "        print(f\"Processing {d} category videos:\")\n",
    "        for line in tqdm_notebook(lines):\n",
    "            l = line.strip().split()\n",
    "            vid_name = l[0]\n",
    "            vid_path = os.path.join(base_path, d, vid_name)\n",
    "            if os.path.exists(vid_path):\n",
    "                video = editor.VideoFileClip(vid_path)\n",
    "                if len(l[1:])%2 != 0:\n",
    "                    print(f\"Timestamps are not in complete pairs. Ignoring last timestamp for video {os.path.join(base_path, d, vid_name)}\")\n",
    "                anomaly_timestamps = []\n",
    "                # Anamoly part extraction\n",
    "                n_pairs = len(l[1:])//2\n",
    "                for n in range(n_pairs):\n",
    "                    new_vid = f\"{os.path.join(root, output_root, d, get_filename(vid_name, n))}\"\n",
    "                    t1, t2 = get_time(l[n*2+1], e=-0.7), get_time(l[n*2+2], e=0.7, max_t=video.duration)\n",
    "                    if t1 is not None and t2 is not None:\n",
    "                        clip = video.subclip(t1, t2)\n",
    "                        clip.write_videofile(new_vid, logger=None)\n",
    "                        anomaly_timestamps.append((t1, t2))\n",
    "                    else:\n",
    "                        print(f\"Skipping timestamps pairs {l[n*2+1]} and {l[n*2+2]} for {vid_path}\")\n",
    "                # Normal part extraction\n",
    "                normal_output_dir = os.path.join(root, output_root, \"Normal\")\n",
    "                if not os.path.exists(normal_output_dir):\n",
    "                    os.mkdir(normal_output_dir)\n",
    "                normal_timestamps = []\n",
    "                if len(anomaly_timestamps) > 0:\n",
    "                    if anomaly_timestamps[0][0]-gap > 0:   # gap b/w normal & anomaly\n",
    "                        normal_timestamps.append((0, anomaly_timestamps[0][0]-gap))\n",
    "                    for i in range(len(anomaly_timestamps)-1):\n",
    "                        start = anomaly_timestamps[i][1]+gap\n",
    "                        end = anomaly_timestamps[i+1][0]-gap\n",
    "                        if end-start > 0:\n",
    "                            normal_timestamps.append((start, end))\n",
    "                    if anomaly_timestamps[-1][1]+gap < video.duration:\n",
    "                        normal_timestamps.append((anomaly_timestamps[-1][1]+gap, video.duration))\n",
    "                for i, t in enumerate(normal_timestamps):\n",
    "                    if t[1]-t[0]>=1.3:\n",
    "                        clip = video.subclip(t[0], t[1])\n",
    "                        new_vid = f\"{os.path.join(normal_output_dir, get_filename('Normal_'+vid_name, i))}\"\n",
    "                        clip.write_videofile(new_vid, logger=None)\n",
    "            else:\n",
    "                print(f\"{vid_path} doesnot exists. Skipping...\")"
   ]
  },
  {
   "cell_type": "code",
   "execution_count": 9,
   "id": "5b8670ff-9b11-43b4-8971-42312d1bb860",
   "metadata": {
    "tags": []
   },
   "outputs": [
    {
     "name": "stdout",
     "output_type": "stream",
     "text": [
      "Processing RoadAccidents category videos:\n"
     ]
    },
    {
     "data": {
      "application/json": {
       "ascii": false,
       "bar_format": null,
       "colour": null,
       "elapsed": 0.08003687858581543,
       "initial": 0,
       "n": 0,
       "ncols": null,
       "nrows": 29,
       "postfix": null,
       "prefix": "",
       "rate": null,
       "total": 149,
       "unit": "it",
       "unit_divisor": 1000,
       "unit_scale": false
      },
      "application/vnd.jupyter.widget-view+json": {
       "model_id": "2eeb81c24e15466382bade658e2b3414",
       "version_major": 2,
       "version_minor": 0
      },
      "text/plain": [
       "  0%|          | 0/149 [00:00<?, ?it/s]"
      ]
     },
     "metadata": {},
     "output_type": "display_data"
    },
    {
     "name": "stdout",
     "output_type": "stream",
     "text": [
      "Processing Robbery category videos:\n"
     ]
    },
    {
     "data": {
      "application/json": {
       "ascii": false,
       "bar_format": null,
       "colour": null,
       "elapsed": 0.07599997520446777,
       "initial": 0,
       "n": 0,
       "ncols": null,
       "nrows": 29,
       "postfix": null,
       "prefix": "",
       "rate": null,
       "total": 150,
       "unit": "it",
       "unit_divisor": 1000,
       "unit_scale": false
      },
      "application/vnd.jupyter.widget-view+json": {
       "model_id": "9713069cd0434eae807d5d67ef0483bb",
       "version_major": 2,
       "version_minor": 0
      },
      "text/plain": [
       "  0%|          | 0/150 [00:00<?, ?it/s]"
      ]
     },
     "metadata": {},
     "output_type": "display_data"
    },
    {
     "name": "stdout",
     "output_type": "stream",
     "text": [
      "Processing Shooting category videos:\n"
     ]
    },
    {
     "data": {
      "application/json": {
       "ascii": false,
       "bar_format": null,
       "colour": null,
       "elapsed": 0.05500388145446777,
       "initial": 0,
       "n": 0,
       "ncols": null,
       "nrows": 29,
       "postfix": null,
       "prefix": "",
       "rate": null,
       "total": 50,
       "unit": "it",
       "unit_divisor": 1000,
       "unit_scale": false
      },
      "application/vnd.jupyter.widget-view+json": {
       "model_id": "5e4f23a0dcd14101be057e0c495008e1",
       "version_major": 2,
       "version_minor": 0
      },
      "text/plain": [
       "  0%|          | 0/50 [00:00<?, ?it/s]"
      ]
     },
     "metadata": {},
     "output_type": "display_data"
    }
   ],
   "source": [
    "extract_clips(\"Anomaly-Videos-Part-3\")"
   ]
  },
  {
   "cell_type": "code",
   "execution_count": 10,
   "id": "f34a8348-79b7-42e1-b27b-15e7b4607a8c",
   "metadata": {},
   "outputs": [
    {
     "name": "stdout",
     "output_type": "stream",
     "text": [
      "Processing Burglary category videos:\n"
     ]
    },
    {
     "data": {
      "application/json": {
       "ascii": false,
       "bar_format": null,
       "colour": null,
       "elapsed": 0.09100174903869629,
       "initial": 0,
       "n": 0,
       "ncols": null,
       "nrows": 29,
       "postfix": null,
       "prefix": "",
       "rate": null,
       "total": 106,
       "unit": "it",
       "unit_divisor": 1000,
       "unit_scale": false
      },
      "application/vnd.jupyter.widget-view+json": {
       "model_id": "f29f5d472f8b4924b03b03f3689fd38a",
       "version_major": 2,
       "version_minor": 0
      },
      "text/plain": [
       "  0%|          | 0/106 [00:00<?, ?it/s]"
      ]
     },
     "metadata": {},
     "output_type": "display_data"
    },
    {
     "name": "stdout",
     "output_type": "stream",
     "text": [
      "Processing Explosion category videos:\n"
     ]
    },
    {
     "data": {
      "application/json": {
       "ascii": false,
       "bar_format": null,
       "colour": null,
       "elapsed": 0.08800315856933594,
       "initial": 0,
       "n": 0,
       "ncols": null,
       "nrows": 29,
       "postfix": null,
       "prefix": "",
       "rate": null,
       "total": 51,
       "unit": "it",
       "unit_divisor": 1000,
       "unit_scale": false
      },
      "application/vnd.jupyter.widget-view+json": {
       "model_id": "1a1bff9f731a42809b61f2b39d54a9de",
       "version_major": 2,
       "version_minor": 0
      },
      "text/plain": [
       "  0%|          | 0/51 [00:00<?, ?it/s]"
      ]
     },
     "metadata": {},
     "output_type": "display_data"
    },
    {
     "ename": "IndexError",
     "evalue": "list index out of range",
     "output_type": "error",
     "traceback": [
      "\u001b[1;31m---------------------------------------------------------------------------\u001b[0m",
      "\u001b[1;31mIndexError\u001b[0m                                Traceback (most recent call last)",
      "Input \u001b[1;32mIn [10]\u001b[0m, in \u001b[0;36m<module>\u001b[1;34m\u001b[0m\n\u001b[1;32m----> 1\u001b[0m \u001b[43mextract_clips\u001b[49m\u001b[43m(\u001b[49m\u001b[38;5;124;43m\"\u001b[39;49m\u001b[38;5;124;43mAnomaly-Videos-Part-2\u001b[39;49m\u001b[38;5;124;43m\"\u001b[39;49m\u001b[43m)\u001b[49m\n",
      "Input \u001b[1;32mIn [8]\u001b[0m, in \u001b[0;36mextract_clips\u001b[1;34m(data_dir, root, output_root, gap)\u001b[0m\n\u001b[0;32m     15\u001b[0m \u001b[38;5;28;01mfor\u001b[39;00m line \u001b[38;5;129;01min\u001b[39;00m tqdm_notebook(lines):\n\u001b[0;32m     16\u001b[0m     l \u001b[38;5;241m=\u001b[39m line\u001b[38;5;241m.\u001b[39mstrip()\u001b[38;5;241m.\u001b[39msplit()\n\u001b[1;32m---> 17\u001b[0m     vid_name \u001b[38;5;241m=\u001b[39m \u001b[43ml\u001b[49m\u001b[43m[\u001b[49m\u001b[38;5;241;43m0\u001b[39;49m\u001b[43m]\u001b[49m\n\u001b[0;32m     18\u001b[0m     vid_path \u001b[38;5;241m=\u001b[39m os\u001b[38;5;241m.\u001b[39mpath\u001b[38;5;241m.\u001b[39mjoin(base_path, d, vid_name)\n\u001b[0;32m     19\u001b[0m     \u001b[38;5;28;01mif\u001b[39;00m os\u001b[38;5;241m.\u001b[39mpath\u001b[38;5;241m.\u001b[39mexists(vid_path):\n",
      "\u001b[1;31mIndexError\u001b[0m: list index out of range"
     ]
    }
   ],
   "source": [
    "extract_clips(\"Anomaly-Videos-Part-2\")"
   ]
  },
  {
   "cell_type": "code",
   "execution_count": 12,
   "id": "f9b911d2-4410-4380-b833-e5746e3c2b88",
   "metadata": {},
   "outputs": [
    {
     "name": "stdout",
     "output_type": "stream",
     "text": [
      "Processing Fighting category videos:\n"
     ]
    },
    {
     "data": {
      "application/json": {
       "ascii": false,
       "bar_format": null,
       "colour": null,
       "elapsed": 0.09593033790588379,
       "initial": 0,
       "n": 0,
       "ncols": null,
       "nrows": 29,
       "postfix": null,
       "prefix": "",
       "rate": null,
       "total": 58,
       "unit": "it",
       "unit_divisor": 1000,
       "unit_scale": false
      },
      "application/vnd.jupyter.widget-view+json": {
       "model_id": "ef072754a0044f3e970057544acfe736",
       "version_major": 2,
       "version_minor": 0
      },
      "text/plain": [
       "  0%|          | 0/58 [00:00<?, ?it/s]"
      ]
     },
     "metadata": {},
     "output_type": "display_data"
    }
   ],
   "source": [
    "extract_clips(\"Anomaly-Videos-Part-2\", skip_classes=[\"Burglary\", \"Explosion\"])"
   ]
  },
  {
   "cell_type": "code",
   "execution_count": 13,
   "id": "0e90eef6-88e0-4829-9339-e9d1a7aa9aba",
   "metadata": {},
   "outputs": [
    {
     "name": "stdout",
     "output_type": "stream",
     "text": [
      "Processing Abuse category videos:\n"
     ]
    },
    {
     "data": {
      "application/json": {
       "ascii": false,
       "bar_format": null,
       "colour": null,
       "elapsed": 0.10399794578552246,
       "initial": 0,
       "n": 0,
       "ncols": null,
       "nrows": 29,
       "postfix": null,
       "prefix": "",
       "rate": null,
       "total": 50,
       "unit": "it",
       "unit_divisor": 1000,
       "unit_scale": false
      },
      "application/vnd.jupyter.widget-view+json": {
       "model_id": "fef3fff24d414644a4bb55933bafebb4",
       "version_major": 2,
       "version_minor": 0
      },
      "text/plain": [
       "  0%|          | 0/50 [00:00<?, ?it/s]"
      ]
     },
     "metadata": {},
     "output_type": "display_data"
    },
    {
     "name": "stdout",
     "output_type": "stream",
     "text": [
      "Processing Arson category videos:\n"
     ]
    },
    {
     "data": {
      "application/json": {
       "ascii": false,
       "bar_format": null,
       "colour": null,
       "elapsed": 0.0721290111541748,
       "initial": 0,
       "n": 0,
       "ncols": null,
       "nrows": 29,
       "postfix": null,
       "prefix": "",
       "rate": null,
       "total": 48,
       "unit": "it",
       "unit_divisor": 1000,
       "unit_scale": false
      },
      "application/vnd.jupyter.widget-view+json": {
       "model_id": "b79f38fab61e4cae868c986730140542",
       "version_major": 2,
       "version_minor": 0
      },
      "text/plain": [
       "  0%|          | 0/48 [00:00<?, ?it/s]"
      ]
     },
     "metadata": {},
     "output_type": "display_data"
    },
    {
     "name": "stdout",
     "output_type": "stream",
     "text": [
      "Processing Assault category videos:\n"
     ]
    },
    {
     "data": {
      "application/json": {
       "ascii": false,
       "bar_format": null,
       "colour": null,
       "elapsed": 0.06299567222595215,
       "initial": 0,
       "n": 0,
       "ncols": null,
       "nrows": 29,
       "postfix": null,
       "prefix": "",
       "rate": null,
       "total": 50,
       "unit": "it",
       "unit_divisor": 1000,
       "unit_scale": false
      },
      "application/vnd.jupyter.widget-view+json": {
       "model_id": "8bc9919e20ba49a0a81d3680f1c4ff7d",
       "version_major": 2,
       "version_minor": 0
      },
      "text/plain": [
       "  0%|          | 0/50 [00:00<?, ?it/s]"
      ]
     },
     "metadata": {},
     "output_type": "display_data"
    }
   ],
   "source": [
    "extract_clips(\"Anomaly-Videos-Part-1\")"
   ]
  },
  {
   "cell_type": "code",
   "execution_count": null,
   "id": "a8259902-e015-4446-a86d-ae4db416298e",
   "metadata": {},
   "outputs": [],
   "source": []
  }
 ],
 "metadata": {
  "kernelspec": {
   "display_name": "Python 3 (ipykernel)",
   "language": "python",
   "name": "python3"
  },
  "language_info": {
   "codemirror_mode": {
    "name": "ipython",
    "version": 3
   },
   "file_extension": ".py",
   "mimetype": "text/x-python",
   "name": "python",
   "nbconvert_exporter": "python",
   "pygments_lexer": "ipython3",
   "version": "3.9.9"
  }
 },
 "nbformat": 4,
 "nbformat_minor": 5
}
