{
  "nbformat": 4,
  "nbformat_minor": 0,
  "metadata": {
    "colab": {
      "provenance": [],
      "gpuType": "T4"
    },
    "kernelspec": {
      "name": "python3",
      "display_name": "Python 3"
    },
    "language_info": {
      "name": "python"
    },
    "gpuClass": "standard",
    "accelerator": "GPU"
  },
  "cells": [
    {
      "cell_type": "code",
      "source": [
        "!pip install decord"
      ],
      "metadata": {
        "colab": {
          "base_uri": "https://localhost:8080/"
        },
        "id": "-T-jUbTzbPRn",
        "outputId": "870c24d0-01f2-4fad-c732-e1ed2e22adb6"
      },
      "execution_count": null,
      "outputs": [
        {
          "output_type": "stream",
          "name": "stdout",
          "text": [
            "Looking in indexes: https://pypi.org/simple, https://us-python.pkg.dev/colab-wheels/public/simple/\n",
            "Collecting decord\n",
            "  Downloading decord-0.6.0-py3-none-manylinux2010_x86_64.whl (13.6 MB)\n",
            "\u001b[2K     \u001b[90m━━━━━━━━━━━━━━━━━━━━━━━━━━━━━━━━━━━━━━━━\u001b[0m \u001b[32m13.6/13.6 MB\u001b[0m \u001b[31m99.1 MB/s\u001b[0m eta \u001b[36m0:00:00\u001b[0m\n",
            "\u001b[?25hRequirement already satisfied: numpy>=1.14.0 in /usr/local/lib/python3.10/dist-packages (from decord) (1.22.4)\n",
            "Installing collected packages: decord\n",
            "Successfully installed decord-0.6.0\n"
          ]
        }
      ]
    },
    {
      "cell_type": "code",
      "source": [
        "from decord import VideoReader\n",
        "from decord import cpu, gpu"
      ],
      "metadata": {
        "id": "R0KpXO92mn4x"
      },
      "execution_count": null,
      "outputs": []
    },
    {
      "cell_type": "code",
      "execution_count": null,
      "metadata": {
        "id": "PVuFaDQ6Lhs2"
      },
      "outputs": [],
      "source": [
        "import os\n",
        "import cv2\n",
        "import pandas as pd\n",
        "import numpy as np\n",
        "from tqdm import tqdm\n",
        "import tensorflow as tf\n",
        "import matplotlib.pyplot as plt\n",
        "from tensorflow.keras.layers import Dense, Input, GlobalAveragePooling2D, Flatten\n",
        "from tensorflow.keras.applications import DenseNet121\n",
        "from tensorflow.keras.models import Model\n",
        "from tensorflow.keras.preprocessing.image import ImageDataGenerator\n",
        "from tensorflow.keras.callbacks import ModelCheckpoint, ReduceLROnPlateau, EarlyStopping\n",
        "from IPython.display import clear_output\n",
        "import random"
      ]
    },
    {
      "cell_type": "code",
      "source": [
        "from google.colab import drive\n",
        "drive.mount(\"drive\")"
      ],
      "metadata": {
        "colab": {
          "base_uri": "https://localhost:8080/"
        },
        "id": "cJJEV28vMdqe",
        "outputId": "8a825960-5be9-4037-a17c-af07ebeff183"
      },
      "execution_count": null,
      "outputs": [
        {
          "output_type": "stream",
          "name": "stdout",
          "text": [
            "Mounted at drive\n"
          ]
        }
      ]
    },
    {
      "cell_type": "code",
      "source": [
        "!unzip drive/MyDrive/Criminal_Activity_Video_Surveillance_Dataset/Trimmed-Videos.zip -d Data/\n",
        "clear_output()"
      ],
      "metadata": {
        "id": "5mpE0R7wMkYB"
      },
      "execution_count": null,
      "outputs": []
    },
    {
      "cell_type": "code",
      "source": [
        "def load_video(path, max_frames=32, resize=(299, 224)):\n",
        "    vr = VideoReader(path, ctx=cpu(0))\n",
        "    start = 0\n",
        "    end = int(max_frames*2)\n",
        "    if end>len(vr):\n",
        "      end = len(vr)\n",
        "    frames_list = list(range(start, end, 2))\n",
        "    frames_orig = vr.get_batch(frames_list).asnumpy()\n",
        "    frames = []\n",
        "    for f in frames_orig:\n",
        "        frame = cv2.resize(f, resize)\n",
        "        frames.append(frame)\n",
        "    \n",
        "    if len(frames) < max_frames:\n",
        "        for i in range(max_frames-len(frames)):\n",
        "            frames.append(np.zeros((resize[1], resize[0], 3)))\n",
        "    if len(frames) > max_frames:\n",
        "        frames = frames[:max_frames]\n",
        "    \n",
        "    return frames"
      ],
      "metadata": {
        "id": "DAS9apuNW0EA"
      },
      "execution_count": null,
      "outputs": []
    },
    {
      "cell_type": "code",
      "source": [
        "def build_feature_extractor(input_shape=(224, 299, 3)):\n",
        "    feature_extractor = tf.keras.applications.InceptionV3(\n",
        "        weights=\"imagenet\",\n",
        "        include_top=False,\n",
        "        pooling=\"avg\",\n",
        "        input_shape=input_shape,\n",
        "    )\n",
        "    preprocess_input = tf.keras.applications.inception_v3.preprocess_input\n",
        "\n",
        "    inputs = tf.keras.Input(input_shape)\n",
        "    preprocessed = preprocess_input(inputs)\n",
        "\n",
        "    outputs = feature_extractor(preprocessed)\n",
        "    return tf.keras.Model(inputs, outputs, name=\"feature_extractor\")\n",
        "\n",
        "with tf.device('/GPU:0'):\n",
        "    feature_extractor = build_feature_extractor()\n",
        "feature_extractor.summary()"
      ],
      "metadata": {
        "colab": {
          "base_uri": "https://localhost:8080/"
        },
        "id": "B9MXuyJioH8M",
        "outputId": "c6f1d19f-141e-4b77-b573-99aea43116bd"
      },
      "execution_count": null,
      "outputs": [
        {
          "output_type": "stream",
          "name": "stdout",
          "text": [
            "Downloading data from https://storage.googleapis.com/tensorflow/keras-applications/inception_v3/inception_v3_weights_tf_dim_ordering_tf_kernels_notop.h5\n",
            "87910968/87910968 [==============================] - 0s 0us/step\n",
            "Model: \"feature_extractor\"\n",
            "_________________________________________________________________\n",
            " Layer (type)                Output Shape              Param #   \n",
            "=================================================================\n",
            " input_2 (InputLayer)        [(None, 224, 299, 3)]     0         \n",
            "                                                                 \n",
            " tf.math.truediv (TFOpLambda  (None, 224, 299, 3)      0         \n",
            " )                                                               \n",
            "                                                                 \n",
            " tf.math.subtract (TFOpLambd  (None, 224, 299, 3)      0         \n",
            " a)                                                              \n",
            "                                                                 \n",
            " inception_v3 (Functional)   (None, 2048)              21802784  \n",
            "                                                                 \n",
            "=================================================================\n",
            "Total params: 21,802,784\n",
            "Trainable params: 21,768,352\n",
            "Non-trainable params: 34,432\n",
            "_________________________________________________________________\n"
          ]
        }
      ]
    },
    {
      "cell_type": "code",
      "source": [
        "normal_vids = os.listdir(\"Data/Trimmed-Videos/Normal\")\n",
        "random_vids = random.sample(normal_vids, 6000)\n",
        "for f in random_vids:\n",
        "    os.remove(f\"Data/Trimmed-Videos/Normal/{f}\")\n",
        "del normal_vids, random_vids"
      ],
      "metadata": {
        "id": "IIUFBd3LjuRq"
      },
      "execution_count": null,
      "outputs": []
    },
    {
      "cell_type": "code",
      "source": [
        "def prepare_videos(data_dir=\"Data\", category=None, output_dir=None, batch_size=32, max_frames=32):\n",
        "    cat = category\n",
        "    if not os.path.exists(output_dir):\n",
        "        os.mkdir(output_dir)\n",
        "    # for cat in os.listdir(data_dir):\n",
        "    os.mkdir(f\"{output_dir}/{cat}\")\n",
        "    all_vids = os.listdir(f\"{data_dir}/{cat}\")\n",
        "    n_vids = len(all_vids)\n",
        "    # print(f\"Processing {cat} videos:\")\n",
        "    for idx in tqdm(range(n_vids//batch_size)):\n",
        "        index = idx * batch_size\n",
        "        batch_vids = all_vids[index:(index+batch_size)]\n",
        "        encodings = []\n",
        "        frames = []\n",
        "        \n",
        "        for v in batch_vids:\n",
        "            frames.extend(load_video(f\"{data_dir}/{cat}/{v}\", max_frames=max_frames))\n",
        "        encodings = feature_extractor.predict(np.array(frames), verbose=0).astype(np.float32)\n",
        "\n",
        "        batch_encodings = []\n",
        "        for i in range(batch_size):\n",
        "            start_idx = i*max_frames\n",
        "            batch_encodings.append(encodings[start_idx:(start_idx+max_frames)])\n",
        "        batch_encodings = np.array(batch_encodings, dtype=np.float32)\n",
        "        np.save(f\"{output_dir}/{cat}/{cat}_batch_{idx}.npy\", batch_encodings)\n",
        "    del batch_encodings, encodings, frames, all_vids     # To save space (RAM)\n",
        "            "
      ],
      "metadata": {
        "id": "wh8EG_e0QsOb"
      },
      "execution_count": null,
      "outputs": []
    },
    {
      "cell_type": "code",
      "source": [
        "prepare_videos(data_dir=\"Data/Trimmed-Videos\", category=\"Abuse\", output_dir=\"Data/Encoded-Videos\")"
      ],
      "metadata": {
        "colab": {
          "base_uri": "https://localhost:8080/"
        },
        "id": "1fxXMzuSZStL",
        "outputId": "0f19bc1b-bd0b-4830-c3b2-7c9df450f098"
      },
      "execution_count": null,
      "outputs": [
        {
          "output_type": "stream",
          "name": "stderr",
          "text": [
            "100%|██████████| 27/27 [02:29<00:00,  5.52s/it]\n"
          ]
        }
      ]
    },
    {
      "cell_type": "code",
      "source": [
        "prepare_videos(data_dir=\"Data/Trimmed-Videos\", category=\"Arson\", output_dir=\"Data/Encoded-Videos\")"
      ],
      "metadata": {
        "colab": {
          "base_uri": "https://localhost:8080/"
        },
        "id": "60BKQG6rtvW-",
        "outputId": "c4c12717-92bb-428e-a200-17ee4dc0bebb"
      },
      "execution_count": null,
      "outputs": [
        {
          "output_type": "stream",
          "name": "stderr",
          "text": [
            "100%|██████████| 35/35 [02:55<00:00,  5.02s/it]\n"
          ]
        }
      ]
    },
    {
      "cell_type": "code",
      "source": [
        "prepare_videos(data_dir=\"Data/Trimmed-Videos\", category=\"Assault\", output_dir=\"Data/Encoded-Videos\")"
      ],
      "metadata": {
        "colab": {
          "base_uri": "https://localhost:8080/"
        },
        "id": "7cJ1-h2PwCl9",
        "outputId": "bdff191f-3436-4fa9-bf5d-62363e9a3718"
      },
      "execution_count": null,
      "outputs": [
        {
          "output_type": "stream",
          "name": "stderr",
          "text": [
            "100%|██████████| 24/24 [02:07<00:00,  5.33s/it]\n"
          ]
        }
      ]
    },
    {
      "cell_type": "code",
      "source": [
        "prepare_videos(data_dir=\"Data/Trimmed-Videos\", category=\"Burglary\", output_dir=\"Data/Encoded-Videos\")"
      ],
      "metadata": {
        "colab": {
          "base_uri": "https://localhost:8080/"
        },
        "id": "gRPdjjjBw6vE",
        "outputId": "3723eb08-eba8-4c1f-8993-58a6ed9a25f1"
      },
      "execution_count": null,
      "outputs": [
        {
          "output_type": "stream",
          "name": "stderr",
          "text": [
            "100%|██████████| 178/178 [14:35<00:00,  4.92s/it]\n"
          ]
        }
      ]
    },
    {
      "cell_type": "code",
      "source": [
        "prepare_videos(data_dir=\"Data/Trimmed-Videos\", category=\"Explosion\", output_dir=\"Data/Encoded-Videos\")"
      ],
      "metadata": {
        "colab": {
          "base_uri": "https://localhost:8080/"
        },
        "id": "H_-UQkc5z8EC",
        "outputId": "f3b784e4-d0f1-4141-96ab-6ccf6aa3090c"
      },
      "execution_count": null,
      "outputs": [
        {
          "output_type": "stream",
          "name": "stderr",
          "text": [
            "100%|██████████| 45/45 [03:43<00:00,  4.97s/it]\n"
          ]
        }
      ]
    },
    {
      "cell_type": "code",
      "source": [
        "prepare_videos(data_dir=\"Data/Trimmed-Videos\", category=\"Normal\", output_dir=\"Data/Encoded-Videos\")"
      ],
      "metadata": {
        "colab": {
          "base_uri": "https://localhost:8080/"
        },
        "id": "DqBoWQ7o52t3",
        "outputId": "ed473e87-ed94-4121-b282-54574b3535d9"
      },
      "execution_count": null,
      "outputs": [
        {
          "output_type": "stream",
          "name": "stderr",
          "text": [
            " 47%|████▋     | 148/312 [12:14<13:41,  5.01s/it]"
          ]
        }
      ]
    },
    {
      "cell_type": "code",
      "source": [
        "# prepare_videos(data_dir=\"Data/Trimmed-Videos\", category=\"Normal\", output_dir=\"Data/Encoded-Videos\")"
      ],
      "metadata": {
        "colab": {
          "base_uri": "https://localhost:8080/"
        },
        "id": "aU0OPHyqFANh",
        "outputId": "9ba4dfa6-ceab-4697-acc8-c32eeb9b3af6"
      },
      "execution_count": null,
      "outputs": [
        {
          "output_type": "stream",
          "name": "stderr",
          "text": [
            "100%|██████████| 164/164 [14:54<00:00,  5.46s/it]\n"
          ]
        }
      ]
    },
    {
      "cell_type": "code",
      "source": [
        "prepare_videos(data_dir=\"Data/Trimmed-Videos\", category=\"Fighting\", output_dir=\"Data/Encoded-Videos\")"
      ],
      "metadata": {
        "colab": {
          "base_uri": "https://localhost:8080/"
        },
        "id": "VftOnSqpLhCK",
        "outputId": "bdde48d4-65a8-4a11-d6b4-d0c4435c492e"
      },
      "execution_count": null,
      "outputs": [
        {
          "output_type": "stream",
          "name": "stderr",
          "text": [
            "100%|██████████| 62/62 [06:11<00:00,  5.99s/it]\n"
          ]
        }
      ]
    },
    {
      "cell_type": "code",
      "source": [
        "prepare_videos(data_dir=\"Data/Trimmed-Videos\", category=\"Shooting\", output_dir=\"Data/Encoded-Videos\")"
      ],
      "metadata": {
        "colab": {
          "base_uri": "https://localhost:8080/"
        },
        "id": "4C5nWhuvM8L1",
        "outputId": "fc43e5e8-f71a-49de-e10d-2bd5d2e588e2"
      },
      "execution_count": null,
      "outputs": [
        {
          "output_type": "stream",
          "name": "stderr",
          "text": [
            "100%|██████████| 21/21 [01:39<00:00,  4.74s/it]\n"
          ]
        }
      ]
    },
    {
      "cell_type": "code",
      "source": [
        "prepare_videos(data_dir=\"Data/Trimmed-Videos\", category=\"RoadAccidents\", output_dir=\"Data/Encoded-Videos\")"
      ],
      "metadata": {
        "colab": {
          "base_uri": "https://localhost:8080/"
        },
        "id": "7moXwYUrNt6n",
        "outputId": "a987a6a7-fe6c-4c6b-e9fa-a123f99052f6"
      },
      "execution_count": null,
      "outputs": [
        {
          "output_type": "stream",
          "name": "stderr",
          "text": [
            "100%|██████████| 18/18 [01:26<00:00,  4.80s/it]\n"
          ]
        }
      ]
    },
    {
      "cell_type": "code",
      "source": [
        "prepare_videos(data_dir=\"Data/Trimmed-Videos\", category=\"Robbery\", output_dir=\"Data/Encoded-Videos\")"
      ],
      "metadata": {
        "colab": {
          "base_uri": "https://localhost:8080/"
        },
        "id": "mTIY2NEUOzc2",
        "outputId": "952166da-d27b-466b-98d3-a8e48193c85c"
      },
      "execution_count": null,
      "outputs": [
        {
          "output_type": "stream",
          "name": "stderr",
          "text": [
            "100%|██████████| 107/107 [08:52<00:00,  4.98s/it]\n"
          ]
        }
      ]
    },
    {
      "cell_type": "code",
      "source": [
        "!rm -r Data/Trimmed-Videos/Abuse\n",
        "!rm -r Data/Trimmed-Videos/Arson\n",
        "!rm -r Data/Trimmed-Videos/Assault\n",
        "!rm -r Data/Trimmed-Videos/Burglary\n",
        "!rm -r Data/Trimmed-Videos/Explosion\n",
        "!rm -r Data/Trimmed-Videos/Normal\n",
        "!rm -r Data/Trimmed-Videos/Fighting\n",
        "!rm -r Data/Trimmed-Videos/Shooting\n",
        "!rm -r Data/Trimmed-Videos/RoadAccidents\n",
        "!rm -r Data/Trimmed-Videos/Robbery"
      ],
      "metadata": {
        "id": "2KUFKK_7Zh0G"
      },
      "execution_count": null,
      "outputs": []
    },
    {
      "cell_type": "markdown",
      "source": [
        "### Splitting batches into individual feature embeddings for randomization."
      ],
      "metadata": {
        "id": "afHPmNeSgKH2"
      }
    },
    {
      "cell_type": "code",
      "source": [
        "# !unzip drive/MyDrive/Criminal_Activity_Video_Surveillance_Dataset/Encoded-Videos-batched.zip -d Data/\n",
        "# clear_output()"
      ],
      "metadata": {
        "id": "w7NdRsT-gV7w"
      },
      "execution_count": null,
      "outputs": []
    },
    {
      "cell_type": "code",
      "source": [
        "if not os.path.exists(\"Data/Encoded-Videos-individual\"):\n",
        "    os.mkdir(\"Data/Encoded-Videos-individual\")"
      ],
      "metadata": {
        "id": "VeInqtOIufNj"
      },
      "execution_count": null,
      "outputs": []
    },
    {
      "cell_type": "code",
      "source": [
        "for cat in os.listdir(\"Data/Encoded-Videos\"):\n",
        "    os.mkdir(f\"Data/Encoded-Videos-individual/{cat}\")\n",
        "    print(f\"Processing {cat} files:\")\n",
        "    for b in tqdm(os.listdir(f\"Data/Encoded-Videos/{cat}\")):\n",
        "        batch = np.load(f\"Data/Encoded-Videos/{cat}/{b}\")\n",
        "        for i,v in enumerate(batch):\n",
        "            np.save(f\"Data/Encoded-Videos-individual/{cat}/{b.replace('.npy', '')}_{i}.npy\", v)\n",
        "        del batch"
      ],
      "metadata": {
        "colab": {
          "base_uri": "https://localhost:8080/"
        },
        "id": "gnZpnERYlDL2",
        "outputId": "5984be43-9884-4a02-95c5-7082cf320727"
      },
      "execution_count": null,
      "outputs": [
        {
          "output_type": "stream",
          "name": "stdout",
          "text": [
            "Processing RoadAccidents files:\n"
          ]
        },
        {
          "output_type": "stream",
          "name": "stderr",
          "text": [
            "100%|██████████| 18/18 [00:01<00:00,  9.22it/s]\n"
          ]
        },
        {
          "output_type": "stream",
          "name": "stdout",
          "text": [
            "Processing Normal files:\n"
          ]
        },
        {
          "output_type": "stream",
          "name": "stderr",
          "text": [
            "100%|██████████| 312/312 [00:34<00:00,  9.05it/s]\n"
          ]
        },
        {
          "output_type": "stream",
          "name": "stdout",
          "text": [
            "Processing Robbery files:\n"
          ]
        },
        {
          "output_type": "stream",
          "name": "stderr",
          "text": [
            "100%|██████████| 107/107 [00:09<00:00, 11.87it/s]\n"
          ]
        },
        {
          "output_type": "stream",
          "name": "stdout",
          "text": [
            "Processing Shooting files:\n"
          ]
        },
        {
          "output_type": "stream",
          "name": "stderr",
          "text": [
            "100%|██████████| 21/21 [00:01<00:00, 11.61it/s]\n"
          ]
        },
        {
          "output_type": "stream",
          "name": "stdout",
          "text": [
            "Processing Assault files:\n"
          ]
        },
        {
          "output_type": "stream",
          "name": "stderr",
          "text": [
            "100%|██████████| 24/24 [00:01<00:00, 12.52it/s]\n"
          ]
        },
        {
          "output_type": "stream",
          "name": "stdout",
          "text": [
            "Processing Burglary files:\n"
          ]
        },
        {
          "output_type": "stream",
          "name": "stderr",
          "text": [
            "100%|██████████| 178/178 [00:16<00:00, 11.12it/s]\n"
          ]
        },
        {
          "output_type": "stream",
          "name": "stdout",
          "text": [
            "Processing Fighting files:\n"
          ]
        },
        {
          "output_type": "stream",
          "name": "stderr",
          "text": [
            "100%|██████████| 62/62 [00:04<00:00, 12.95it/s]\n"
          ]
        },
        {
          "output_type": "stream",
          "name": "stdout",
          "text": [
            "Processing Arson files:\n"
          ]
        },
        {
          "output_type": "stream",
          "name": "stderr",
          "text": [
            "100%|██████████| 35/35 [00:03<00:00, 11.13it/s]\n"
          ]
        },
        {
          "output_type": "stream",
          "name": "stdout",
          "text": [
            "Processing Explosion files:\n"
          ]
        },
        {
          "output_type": "stream",
          "name": "stderr",
          "text": [
            "100%|██████████| 45/45 [00:05<00:00,  7.92it/s]\n"
          ]
        },
        {
          "output_type": "stream",
          "name": "stdout",
          "text": [
            "Processing Abuse files:\n"
          ]
        },
        {
          "output_type": "stream",
          "name": "stderr",
          "text": [
            "100%|██████████| 27/27 [00:03<00:00,  8.50it/s]\n"
          ]
        }
      ]
    },
    {
      "cell_type": "code",
      "source": [
        "from glob import glob\n",
        "files = glob(\"Data/Encoded-Videos-individual/*/*.npy\")\n",
        "len(files)"
      ],
      "metadata": {
        "colab": {
          "base_uri": "https://localhost:8080/"
        },
        "id": "UEF0f-atwYJX",
        "outputId": "3bc0868d-68d1-46a8-fb3e-4489b52bdc0b"
      },
      "execution_count": null,
      "outputs": [
        {
          "output_type": "execute_result",
          "data": {
            "text/plain": [
              "26528"
            ]
          },
          "metadata": {},
          "execution_count": 24
        }
      ]
    },
    {
      "cell_type": "code",
      "source": [
        "# !zip -r Encoded-Videos-individual.zip Data/Encoded-Videos-individual\n",
        "# clear_output()"
      ],
      "metadata": {
        "id": "UllCGn8RwsqS"
      },
      "execution_count": null,
      "outputs": []
    },
    {
      "cell_type": "code",
      "source": [
        "# !cp Encoded-Videos-individual.zip drive/MyDrive/Criminal_Activity_Video_Surveillance_Dataset/"
      ],
      "metadata": {
        "id": "dmZN_3Q7yNZC"
      },
      "execution_count": null,
      "outputs": []
    },
    {
      "cell_type": "markdown",
      "source": [
        "### Creating dataframe of filenames and their labels"
      ],
      "metadata": {
        "id": "kTJBuVdwleLE"
      }
    },
    {
      "cell_type": "code",
      "source": [
        "!unzip /content/drive/MyDrive/Criminal_Activity_Video_Surveillance_Dataset/Encoded-Videos-individual.zip\n",
        "clear_output()"
      ],
      "metadata": {
        "id": "YSJryL9KiiIa"
      },
      "execution_count": null,
      "outputs": []
    },
    {
      "cell_type": "code",
      "source": [
        "rooms = []\n",
        "for item in os.listdir('Data/Encoded-Videos-individual'):\n",
        "     files = os.listdir(f'Data/Encoded-Videos-individual/{item}')\n",
        "\n",
        "     # Add them to the list\n",
        "     for file in files:\n",
        "            rooms.append((item, f'Data/Encoded-Videos-individual/{item}/{file}'))\n",
        "    \n",
        "# Build a dataframe        \n",
        "df = pd.DataFrame(data=rooms, columns=['label', 'filepath'])\n",
        "df_final = df.sample(frac = 1)\n",
        "df_final = df_final.reset_index(drop=True)\n",
        "\n",
        "TEST_SIZE = 5000\n",
        "test_df = df_final.iloc[:TEST_SIZE].reset_index(drop=True)\n",
        "train_df = df_final.iloc[TEST_SIZE:].reset_index(drop=True)\n",
        "\n",
        "print(f\"Total videos for training: {len(train_df)}\")\n",
        "print(f\"Total videos for testing: {len(test_df)}\")\n",
        "\n",
        "train_df.sample(10)"
      ],
      "metadata": {
        "id": "nChsmau2lZV1",
        "colab": {
          "base_uri": "https://localhost:8080/",
          "height": 397
        },
        "outputId": "45240ee5-deda-4a92-e64b-5d06bbea955d"
      },
      "execution_count": null,
      "outputs": [
        {
          "output_type": "stream",
          "name": "stdout",
          "text": [
            "Total videos for training: 21528\n",
            "Total videos for testing: 5000\n"
          ]
        },
        {
          "output_type": "execute_result",
          "data": {
            "text/plain": [
              "           label                                           filepath\n",
              "17568     Normal  Data/Encoded-Videos-individual/Normal/Normal_b...\n",
              "1294       Abuse  Data/Encoded-Videos-individual/Abuse/Abuse_bat...\n",
              "19212     Normal  Data/Encoded-Videos-individual/Normal/Normal_b...\n",
              "4167    Fighting  Data/Encoded-Videos-individual/Fighting/Fighti...\n",
              "12329  Explosion  Data/Encoded-Videos-individual/Explosion/Explo...\n",
              "19351   Burglary  Data/Encoded-Videos-individual/Burglary/Burgla...\n",
              "7389   Explosion  Data/Encoded-Videos-individual/Explosion/Explo...\n",
              "5250      Normal  Data/Encoded-Videos-individual/Normal/Normal_b...\n",
              "4731      Normal  Data/Encoded-Videos-individual/Normal/Normal_b...\n",
              "14898     Normal  Data/Encoded-Videos-individual/Normal/Normal_b..."
            ],
            "text/html": [
              "\n",
              "  <div id=\"df-cc8fd346-4130-4d98-8189-e0ea228388af\">\n",
              "    <div class=\"colab-df-container\">\n",
              "      <div>\n",
              "<style scoped>\n",
              "    .dataframe tbody tr th:only-of-type {\n",
              "        vertical-align: middle;\n",
              "    }\n",
              "\n",
              "    .dataframe tbody tr th {\n",
              "        vertical-align: top;\n",
              "    }\n",
              "\n",
              "    .dataframe thead th {\n",
              "        text-align: right;\n",
              "    }\n",
              "</style>\n",
              "<table border=\"1\" class=\"dataframe\">\n",
              "  <thead>\n",
              "    <tr style=\"text-align: right;\">\n",
              "      <th></th>\n",
              "      <th>label</th>\n",
              "      <th>filepath</th>\n",
              "    </tr>\n",
              "  </thead>\n",
              "  <tbody>\n",
              "    <tr>\n",
              "      <th>17568</th>\n",
              "      <td>Normal</td>\n",
              "      <td>Data/Encoded-Videos-individual/Normal/Normal_b...</td>\n",
              "    </tr>\n",
              "    <tr>\n",
              "      <th>1294</th>\n",
              "      <td>Abuse</td>\n",
              "      <td>Data/Encoded-Videos-individual/Abuse/Abuse_bat...</td>\n",
              "    </tr>\n",
              "    <tr>\n",
              "      <th>19212</th>\n",
              "      <td>Normal</td>\n",
              "      <td>Data/Encoded-Videos-individual/Normal/Normal_b...</td>\n",
              "    </tr>\n",
              "    <tr>\n",
              "      <th>4167</th>\n",
              "      <td>Fighting</td>\n",
              "      <td>Data/Encoded-Videos-individual/Fighting/Fighti...</td>\n",
              "    </tr>\n",
              "    <tr>\n",
              "      <th>12329</th>\n",
              "      <td>Explosion</td>\n",
              "      <td>Data/Encoded-Videos-individual/Explosion/Explo...</td>\n",
              "    </tr>\n",
              "    <tr>\n",
              "      <th>19351</th>\n",
              "      <td>Burglary</td>\n",
              "      <td>Data/Encoded-Videos-individual/Burglary/Burgla...</td>\n",
              "    </tr>\n",
              "    <tr>\n",
              "      <th>7389</th>\n",
              "      <td>Explosion</td>\n",
              "      <td>Data/Encoded-Videos-individual/Explosion/Explo...</td>\n",
              "    </tr>\n",
              "    <tr>\n",
              "      <th>5250</th>\n",
              "      <td>Normal</td>\n",
              "      <td>Data/Encoded-Videos-individual/Normal/Normal_b...</td>\n",
              "    </tr>\n",
              "    <tr>\n",
              "      <th>4731</th>\n",
              "      <td>Normal</td>\n",
              "      <td>Data/Encoded-Videos-individual/Normal/Normal_b...</td>\n",
              "    </tr>\n",
              "    <tr>\n",
              "      <th>14898</th>\n",
              "      <td>Normal</td>\n",
              "      <td>Data/Encoded-Videos-individual/Normal/Normal_b...</td>\n",
              "    </tr>\n",
              "  </tbody>\n",
              "</table>\n",
              "</div>\n",
              "      <button class=\"colab-df-convert\" onclick=\"convertToInteractive('df-cc8fd346-4130-4d98-8189-e0ea228388af')\"\n",
              "              title=\"Convert this dataframe to an interactive table.\"\n",
              "              style=\"display:none;\">\n",
              "        \n",
              "  <svg xmlns=\"http://www.w3.org/2000/svg\" height=\"24px\"viewBox=\"0 0 24 24\"\n",
              "       width=\"24px\">\n",
              "    <path d=\"M0 0h24v24H0V0z\" fill=\"none\"/>\n",
              "    <path d=\"M18.56 5.44l.94 2.06.94-2.06 2.06-.94-2.06-.94-.94-2.06-.94 2.06-2.06.94zm-11 1L8.5 8.5l.94-2.06 2.06-.94-2.06-.94L8.5 2.5l-.94 2.06-2.06.94zm10 10l.94 2.06.94-2.06 2.06-.94-2.06-.94-.94-2.06-.94 2.06-2.06.94z\"/><path d=\"M17.41 7.96l-1.37-1.37c-.4-.4-.92-.59-1.43-.59-.52 0-1.04.2-1.43.59L10.3 9.45l-7.72 7.72c-.78.78-.78 2.05 0 2.83L4 21.41c.39.39.9.59 1.41.59.51 0 1.02-.2 1.41-.59l7.78-7.78 2.81-2.81c.8-.78.8-2.07 0-2.86zM5.41 20L4 18.59l7.72-7.72 1.47 1.35L5.41 20z\"/>\n",
              "  </svg>\n",
              "      </button>\n",
              "      \n",
              "  <style>\n",
              "    .colab-df-container {\n",
              "      display:flex;\n",
              "      flex-wrap:wrap;\n",
              "      gap: 12px;\n",
              "    }\n",
              "\n",
              "    .colab-df-convert {\n",
              "      background-color: #E8F0FE;\n",
              "      border: none;\n",
              "      border-radius: 50%;\n",
              "      cursor: pointer;\n",
              "      display: none;\n",
              "      fill: #1967D2;\n",
              "      height: 32px;\n",
              "      padding: 0 0 0 0;\n",
              "      width: 32px;\n",
              "    }\n",
              "\n",
              "    .colab-df-convert:hover {\n",
              "      background-color: #E2EBFA;\n",
              "      box-shadow: 0px 1px 2px rgba(60, 64, 67, 0.3), 0px 1px 3px 1px rgba(60, 64, 67, 0.15);\n",
              "      fill: #174EA6;\n",
              "    }\n",
              "\n",
              "    [theme=dark] .colab-df-convert {\n",
              "      background-color: #3B4455;\n",
              "      fill: #D2E3FC;\n",
              "    }\n",
              "\n",
              "    [theme=dark] .colab-df-convert:hover {\n",
              "      background-color: #434B5C;\n",
              "      box-shadow: 0px 1px 3px 1px rgba(0, 0, 0, 0.15);\n",
              "      filter: drop-shadow(0px 1px 2px rgba(0, 0, 0, 0.3));\n",
              "      fill: #FFFFFF;\n",
              "    }\n",
              "  </style>\n",
              "\n",
              "      <script>\n",
              "        const buttonEl =\n",
              "          document.querySelector('#df-cc8fd346-4130-4d98-8189-e0ea228388af button.colab-df-convert');\n",
              "        buttonEl.style.display =\n",
              "          google.colab.kernel.accessAllowed ? 'block' : 'none';\n",
              "\n",
              "        async function convertToInteractive(key) {\n",
              "          const element = document.querySelector('#df-cc8fd346-4130-4d98-8189-e0ea228388af');\n",
              "          const dataTable =\n",
              "            await google.colab.kernel.invokeFunction('convertToInteractive',\n",
              "                                                     [key], {});\n",
              "          if (!dataTable) return;\n",
              "\n",
              "          const docLinkHtml = 'Like what you see? Visit the ' +\n",
              "            '<a target=\"_blank\" href=https://colab.research.google.com/notebooks/data_table.ipynb>data table notebook</a>'\n",
              "            + ' to learn more about interactive tables.';\n",
              "          element.innerHTML = '';\n",
              "          dataTable['output_type'] = 'display_data';\n",
              "          await google.colab.output.renderOutput(dataTable, element);\n",
              "          const docLink = document.createElement('div');\n",
              "          docLink.innerHTML = docLinkHtml;\n",
              "          element.appendChild(docLink);\n",
              "        }\n",
              "      </script>\n",
              "    </div>\n",
              "  </div>\n",
              "  "
            ]
          },
          "metadata": {},
          "execution_count": 4
        }
      ]
    },
    {
      "cell_type": "code",
      "source": [
        "test_df.to_csv(\"Data/test_df.csv\", index=False)\n",
        "train_df.to_csv(\"Data/train_df.csv\", index=False)\n",
        "\n",
        "!cp Data/test_df.csv drive/MyDrive/Criminal_Activity_Video_Surveillance_Dataset/\n",
        "!cp Data/train_df.csv drive/MyDrive/Criminal_Activity_Video_Surveillance_Dataset/"
      ],
      "metadata": {
        "id": "vwr4P5QzlZLJ"
      },
      "execution_count": null,
      "outputs": []
    },
    {
      "cell_type": "code",
      "source": [
        "# train_df = pd.read_csv(\"drive/MyDrive/Criminal_Activity_Video_Surveillance_Dataset/train_df.csv\")\n",
        "# test_df = pd.read_csv(\"drive/MyDrive/Criminal_Activity_Video_Surveillance_Dataset/test_df.csv\")"
      ],
      "metadata": {
        "id": "1eRnYxInnHjQ"
      },
      "execution_count": null,
      "outputs": []
    },
    {
      "cell_type": "markdown",
      "source": [
        "### Label Encoding\n",
        "StringLookup layer encode the class labels as integers."
      ],
      "metadata": {
        "id": "6vr58LOJODi_"
      }
    },
    {
      "cell_type": "code",
      "source": [
        "label_processor = tf.keras.layers.StringLookup(num_oov_indices=0, vocabulary=np.unique(train_df[\"label\"]), output_mode='one_hot')\n",
        "print(label_processor.get_vocabulary())\n",
        "\n",
        "labels = train_df[\"label\"].values\n",
        "labels = label_processor(labels[..., None]).numpy()\n",
        "labels"
      ],
      "metadata": {
        "colab": {
          "base_uri": "https://localhost:8080/"
        },
        "id": "bf7yYWznOBVG",
        "outputId": "9c06104a-7943-41c8-e28c-e9a4d1394583"
      },
      "execution_count": null,
      "outputs": [
        {
          "output_type": "stream",
          "name": "stdout",
          "text": [
            "['Abuse', 'Arson', 'Assault', 'Burglary', 'Explosion', 'Fighting', 'Normal', 'RoadAccidents', 'Robbery', 'Shooting']\n"
          ]
        },
        {
          "output_type": "execute_result",
          "data": {
            "text/plain": [
              "array([[0., 0., 0., ..., 0., 0., 0.],\n",
              "       [0., 0., 0., ..., 0., 0., 0.],\n",
              "       [0., 0., 0., ..., 0., 0., 0.],\n",
              "       ...,\n",
              "       [0., 0., 0., ..., 0., 1., 0.],\n",
              "       [0., 0., 0., ..., 0., 0., 0.],\n",
              "       [0., 0., 0., ..., 0., 0., 0.]], dtype=float32)"
            ]
          },
          "metadata": {},
          "execution_count": 5
        }
      ]
    },
    {
      "cell_type": "code",
      "source": [
        "# class DataGenerator(tf.keras.utils.Sequence):\n",
        "#     def __init__(self, df, x_col='filepath', y_col='label', batch_size=32, num_classes=None, shuffle=True):\n",
        "#         self.batch_size = batch_size\n",
        "#         self.df = df\n",
        "#         self.indices = self.df.index.tolist()\n",
        "#         self.num_classes = num_classes\n",
        "#         self.shuffle = shuffle\n",
        "#         self.x_col = x_col\n",
        "#         self.y_col = y_col\n",
        "#         self.on_epoch_end()\n",
        "\n",
        "#     def __len__(self):\n",
        "#         return len(self.indices) // self.batch_size\n",
        "\n",
        "#     def __getitem__(self, index):\n",
        "#         index = self.index[index * self.batch_size:(index + 1) * self.batch_size]\n",
        "#         batch = [self.indices[k] for k in index]\n",
        "        \n",
        "#         X, y = self.__get_data(batch)\n",
        "#         return X, y\n",
        "\n",
        "#     def on_epoch_end(self):\n",
        "#         self.index = np.arange(len(self.indices))\n",
        "#         if self.shuffle == True:\n",
        "#             np.random.shuffle(self.index)\n",
        "\n",
        "#     def __load_video(self, path, max_frames=32, resize=(299, 224)):\n",
        "#         cap = cv2.VideoCapture(path)\n",
        "#         frames = []\n",
        "#         try:\n",
        "#             counter = 0\n",
        "#             while True:\n",
        "#                 ret, frame = cap.read()\n",
        "#                 if not ret:\n",
        "#                     break\n",
        "#                 frame = cv2.resize(frame, resize)\n",
        "#                 frame = frame[:, :, [2, 1, 0]]\n",
        "#                 if counter%2==0:\n",
        "#                     frames.append(frame)\n",
        "\n",
        "#                 if len(frames) == max_frames:\n",
        "#                     break\n",
        "#         finally:\n",
        "#             cap.release()\n",
        "        \n",
        "#         if len(frames) < max_frames:\n",
        "#             for i in range(max_frames-len(frames)):\n",
        "#                 frames.append(np.zeros((resize[1], resize[0], 3)))\n",
        "#         if len(frames) > max_frames:\n",
        "#             frames = frames[:max_frames]\n",
        "        \n",
        "#         return np.array(frames)\n",
        "\n",
        "#     def __get_data(self, batch):\n",
        "        \n",
        "#         batch_df = self.df.iloc[batch]\n",
        "#         labels = batch_df[self.y_col].values\n",
        "#         y = label_processor(labels[..., None]).numpy()\n",
        "\n",
        "#         imgs_encodings = []\n",
        "#         for ig in batch_df[self.x_col].values:\n",
        "#             frames = self.__load_video(ig)\n",
        "#             encodings = feature_extractor.predict(frames).astype(np.float32)\n",
        "#             imgs_encodings.append(encodings)\n",
        "        \n",
        "#         X = np.array(imgs_encodings)\n",
        "\n",
        "#         return X, y"
      ],
      "metadata": {
        "id": "r9Z5nyESfw-Z"
      },
      "execution_count": null,
      "outputs": []
    },
    {
      "cell_type": "code",
      "source": [
        "# class DataGenerator(tf.keras.utils.Sequence):\n",
        "#     def __init__(self, df, x_col='filepath', y_col='label', batch_size=32, num_classes=None, shuffle=True):\n",
        "#         self.batch_size = batch_size\n",
        "#         self.df = df\n",
        "#         self.indices = self.df.index.tolist()\n",
        "#         self.num_classes = num_classes\n",
        "#         self.shuffle = shuffle\n",
        "#         self.x_col = x_col\n",
        "#         self.y_col = y_col\n",
        "#         self.on_epoch_end()\n",
        "\n",
        "#     def __len__(self):\n",
        "#         return len(self.indices) // self.batch_size\n",
        "\n",
        "#     def __getitem__(self, index):\n",
        "#         index = self.index[index * self.batch_size:(index + 1) * self.batch_size]\n",
        "#         batch = [self.indices[k] for k in index]\n",
        "        \n",
        "#         X, y = self.__get_data(batch)\n",
        "#         return X, y\n",
        "\n",
        "#     def on_epoch_end(self):\n",
        "#         self.index = np.arange(len(self.indices))\n",
        "#         if self.shuffle == True:\n",
        "#             np.random.shuffle(self.index)\n",
        "\n",
        "#     def __load_video(self, path, max_frames=32, resize=(299, 224)):\n",
        "#         vr = VideoReader(path, ctx=cpu(0))\n",
        "#         start = 0\n",
        "#         end = int(max_frames*2)\n",
        "#         if end>len(vr):\n",
        "#           end = len(vr)\n",
        "#         frames_list = list(range(start, end, 2))\n",
        "#         frames_orig = vr.get_batch(frames_list).asnumpy()\n",
        "#         frames = []\n",
        "#         for f in frames_orig:\n",
        "#             frame = cv2.resize(f, resize)\n",
        "#             frames.append(frame)\n",
        "        \n",
        "#         if len(frames) < max_frames:\n",
        "#             for i in range(max_frames-len(frames)):\n",
        "#                 frames.append(np.zeros((resize[1], resize[0], 3)))\n",
        "#         if len(frames) > max_frames:\n",
        "#             frames = frames[:max_frames]\n",
        "        \n",
        "#         return np.array(frames)\n",
        "\n",
        "#     def __get_data(self, batch):\n",
        "        \n",
        "#         batch_df = self.df.iloc[batch]\n",
        "#         labels = batch_df[self.y_col].values\n",
        "#         y = label_processor(labels[..., None]).numpy()\n",
        "\n",
        "#         imgs_encodings = []\n",
        "#         for ig in batch_df[self.x_col].values:\n",
        "#             frames = self.__load_video(ig)\n",
        "#             encodings = feature_extractor.predict(frames).astype(np.float32)\n",
        "#             imgs_encodings.append(encodings)\n",
        "        \n",
        "#         X = np.array(imgs_encodings)\n",
        "\n",
        "#         return X, y"
      ],
      "metadata": {
        "id": "e8wokarNba2p"
      },
      "execution_count": null,
      "outputs": []
    },
    {
      "cell_type": "code",
      "source": [
        "class DataGenerator(tf.keras.utils.Sequence):\n",
        "    def __init__(self, df, x_col='filepath', y_col='label', batch_size=32, num_classes=None, shuffle=True):\n",
        "        self.batch_size = batch_size\n",
        "        self.df = df\n",
        "        self.indices = self.df.index.tolist()\n",
        "        self.num_classes = num_classes\n",
        "        self.shuffle = shuffle\n",
        "        self.x_col = x_col\n",
        "        self.y_col = y_col\n",
        "        self.on_epoch_end()\n",
        "\n",
        "    def __len__(self):\n",
        "        return len(self.indices) // self.batch_size\n",
        "\n",
        "    def __getitem__(self, index):\n",
        "        index = self.index[index * self.batch_size:(index + 1) * self.batch_size]\n",
        "        batch = [self.indices[k] for k in index]\n",
        "        \n",
        "        X, y = self.__get_data(batch)\n",
        "        return X, y\n",
        "\n",
        "    def on_epoch_end(self):\n",
        "        self.index = np.arange(len(self.indices))\n",
        "        if self.shuffle == True:\n",
        "            np.random.shuffle(self.index)\n",
        "\n",
        "    # def __load_video(self, path, max_frames=32, resize=(299, 224)):\n",
        "    #     vr = VideoReader(path, ctx=cpu(0))\n",
        "    #     start = 0\n",
        "    #     end = int(max_frames*2)\n",
        "    #     if end>len(vr):\n",
        "    #       end = len(vr)\n",
        "    #     frames_list = list(range(start, end, 2))\n",
        "    #     frames_orig = vr.get_batch(frames_list).asnumpy()\n",
        "    #     frames = []\n",
        "    #     for f in frames_orig:\n",
        "    #         frame = cv2.resize(f, resize)\n",
        "    #         frames.append(frame)\n",
        "        \n",
        "    #     if len(frames) < max_frames:\n",
        "    #         for i in range(max_frames-len(frames)):\n",
        "    #             frames.append(np.zeros((resize[1], resize[0], 3)))\n",
        "    #     if len(frames) > max_frames:\n",
        "    #         frames = frames[:max_frames]\n",
        "        \n",
        "    #     return np.array(frames)\n",
        "\n",
        "    def __get_data(self, batch):\n",
        "        \n",
        "        batch_df = self.df.iloc[batch]\n",
        "        labels = batch_df[self.y_col].values\n",
        "        y = label_processor(labels[..., None]).numpy()\n",
        "\n",
        "        imgs_encodings = []\n",
        "        for ig in batch_df[self.x_col].values:\n",
        "            # frames = self.__load_video(ig)\n",
        "            # encodings = feature_extractor.predict(frames).astype(np.float32)\n",
        "            encodings = np.load(ig)\n",
        "            imgs_encodings.append(encodings)\n",
        "        \n",
        "        X = np.array(imgs_encodings)\n",
        "\n",
        "        return X, y"
      ],
      "metadata": {
        "id": "3304a4HF2U2P"
      },
      "execution_count": null,
      "outputs": []
    },
    {
      "cell_type": "code",
      "source": [
        "#Define hyperparameters\n",
        "\n",
        "IMG_SIZE = (299, 224)\n",
        "BATCH_SIZE = 32\n",
        "EPOCHS = 100\n",
        "\n",
        "MAX_SEQ_LENGTH = 32\n",
        "NUM_FEATURES = 2048"
      ],
      "metadata": {
        "id": "9Qj_C67Qes1b"
      },
      "execution_count": null,
      "outputs": []
    },
    {
      "cell_type": "code",
      "source": [
        "train_gen = DataGenerator(df=train_df, x_col='filepath', y_col='label', batch_size=BATCH_SIZE)\n",
        "val_gen = DataGenerator(df=test_df, x_col='filepath', y_col='label', batch_size=BATCH_SIZE)"
      ],
      "metadata": {
        "id": "CtV1gH4dVTfE"
      },
      "execution_count": null,
      "outputs": []
    },
    {
      "cell_type": "code",
      "source": [
        "# Utility for our sequence model.\n",
        "def get_sequence_model():\n",
        "    class_vocab = label_processor.get_vocabulary()\n",
        "\n",
        "    frame_features_input = tf.keras.Input((MAX_SEQ_LENGTH, NUM_FEATURES))\n",
        "    # mask_input = tf.keras.Input((MAX_SEQ_LENGTH,), dtype=\"bool\")\n",
        "\n",
        "    # Refer to the following tutorial to understand the significance of using `mask`:\n",
        "    # https://keras.io/api/layers/recurrent_layers/gru/\n",
        "    x = tf.keras.layers.LSTM(256, return_sequences=True)(frame_features_input)\n",
        "    x = tf.keras.layers.LSTM(128)(x)\n",
        "    x = tf.keras.layers.Dropout(0.4)(x)\n",
        "    x = tf.keras.layers.Dense(32, activation=\"relu\")(x)\n",
        "    output = tf.keras.layers.Dense(len(class_vocab), activation=\"softmax\")(x)\n",
        "\n",
        "    rnn_model = tf.keras.Model(frame_features_input, output)\n",
        "\n",
        "    rnn_model.compile(\n",
        "        loss=\"categorical_crossentropy\", optimizer=\"adam\", metrics=[\"accuracy\"]\n",
        "    )\n",
        "    return rnn_model"
      ],
      "metadata": {
        "id": "PbGD-ZI-RBjq"
      },
      "execution_count": null,
      "outputs": []
    },
    {
      "cell_type": "code",
      "source": [
        "with tf.device('/GPU:0'):\n",
        "    seq_model = get_sequence_model()\n",
        "seq_model.summary()"
      ],
      "metadata": {
        "colab": {
          "base_uri": "https://localhost:8080/"
        },
        "id": "xnuPWxtaTC-u",
        "outputId": "c1f9a7af-d801-45b0-80e9-a195840fa865"
      },
      "execution_count": null,
      "outputs": [
        {
          "output_type": "stream",
          "name": "stdout",
          "text": [
            "Model: \"model\"\n",
            "_________________________________________________________________\n",
            " Layer (type)                Output Shape              Param #   \n",
            "=================================================================\n",
            " input_3 (InputLayer)        [(None, 32, 2048)]        0         \n",
            "                                                                 \n",
            " lstm (LSTM)                 (None, 32, 256)           2360320   \n",
            "                                                                 \n",
            " lstm_1 (LSTM)               (None, 128)               197120    \n",
            "                                                                 \n",
            " dropout (Dropout)           (None, 128)               0         \n",
            "                                                                 \n",
            " dense (Dense)               (None, 32)                4128      \n",
            "                                                                 \n",
            " dense_1 (Dense)             (None, 10)                330       \n",
            "                                                                 \n",
            "=================================================================\n",
            "Total params: 2,561,898\n",
            "Trainable params: 2,561,898\n",
            "Non-trainable params: 0\n",
            "_________________________________________________________________\n"
          ]
        }
      ]
    },
    {
      "cell_type": "code",
      "source": [
        "os.mkdir(\"Output\")"
      ],
      "metadata": {
        "id": "FTCR3Jt3kvER"
      },
      "execution_count": null,
      "outputs": []
    },
    {
      "cell_type": "code",
      "source": [
        "weight_path=\"Output2/checkpoint-{epoch:03d}-{val_accuracy:.3f}.hdf5\"\n",
        "\n",
        "checkpoint = ModelCheckpoint(weight_path, monitor='val_loss', verbose=1, \n",
        "                             save_best_only=True, mode='min', save_weights_only = True)\n",
        "\n",
        "\n",
        "early = EarlyStopping(monitor=\"val_loss\", \n",
        "                      mode=\"min\", \n",
        "                      patience=8)\n",
        "\n",
        "CALLBACKS = [checkpoint, early]"
      ],
      "metadata": {
        "id": "II8Wuu5wksUX"
      },
      "execution_count": null,
      "outputs": []
    },
    {
      "cell_type": "code",
      "source": [
        "history = seq_model.fit(train_gen,\n",
        "                        validation_data=val_gen,\n",
        "                        epochs=EPOCHS,\n",
        "                        callbacks=CALLBACKS)"
      ],
      "metadata": {
        "colab": {
          "base_uri": "https://localhost:8080/"
        },
        "id": "vd2DtjRTTJ-_",
        "outputId": "50090d1f-d469-400f-88d0-37313d9382d2"
      },
      "execution_count": null,
      "outputs": [
        {
          "output_type": "stream",
          "name": "stdout",
          "text": [
            "Epoch 1/100\n",
            "672/672 [==============================] - ETA: 0s - loss: 1.4151 - accuracy: 0.5253\n",
            "Epoch 1: val_loss improved from inf to 1.09438, saving model to Output/checkpoint-001-0.643.hdf5\n",
            "672/672 [==============================] - 95s 134ms/step - loss: 1.4151 - accuracy: 0.5253 - val_loss: 1.0944 - val_accuracy: 0.6434\n",
            "Epoch 2/100\n",
            "672/672 [==============================] - ETA: 0s - loss: 1.0103 - accuracy: 0.6642\n",
            "Epoch 2: val_loss improved from 1.09438 to 0.92880, saving model to Output/checkpoint-002-0.681.hdf5\n",
            "672/672 [==============================] - 90s 134ms/step - loss: 1.0103 - accuracy: 0.6642 - val_loss: 0.9288 - val_accuracy: 0.6807\n",
            "Epoch 3/100\n",
            "672/672 [==============================] - ETA: 0s - loss: 0.8454 - accuracy: 0.7191\n",
            "Epoch 3: val_loss improved from 0.92880 to 0.75777, saving model to Output/checkpoint-003-0.746.hdf5\n",
            "672/672 [==============================] - 92s 137ms/step - loss: 0.8454 - accuracy: 0.7191 - val_loss: 0.7578 - val_accuracy: 0.7458\n",
            "Epoch 4/100\n",
            "672/672 [==============================] - ETA: 0s - loss: 0.7315 - accuracy: 0.7533\n",
            "Epoch 4: val_loss improved from 0.75777 to 0.70195, saving model to Output/checkpoint-004-0.760.hdf5\n",
            "672/672 [==============================] - 95s 141ms/step - loss: 0.7315 - accuracy: 0.7533 - val_loss: 0.7020 - val_accuracy: 0.7600\n",
            "Epoch 5/100\n",
            "672/672 [==============================] - ETA: 0s - loss: 0.6598 - accuracy: 0.7714\n",
            "Epoch 5: val_loss improved from 0.70195 to 0.60983, saving model to Output/checkpoint-005-0.786.hdf5\n",
            "672/672 [==============================] - 92s 137ms/step - loss: 0.6598 - accuracy: 0.7714 - val_loss: 0.6098 - val_accuracy: 0.7857\n",
            "Epoch 6/100\n",
            "672/672 [==============================] - ETA: 0s - loss: 0.5866 - accuracy: 0.7953\n",
            "Epoch 6: val_loss did not improve from 0.60983\n",
            "672/672 [==============================] - 97s 144ms/step - loss: 0.5866 - accuracy: 0.7953 - val_loss: 0.6235 - val_accuracy: 0.7804\n",
            "Epoch 7/100\n",
            "672/672 [==============================] - ETA: 0s - loss: 0.5298 - accuracy: 0.8170\n",
            "Epoch 7: val_loss improved from 0.60983 to 0.59937, saving model to Output/checkpoint-007-0.795.hdf5\n",
            "672/672 [==============================] - 91s 136ms/step - loss: 0.5298 - accuracy: 0.8170 - val_loss: 0.5994 - val_accuracy: 0.7947\n",
            "Epoch 8/100\n",
            "672/672 [==============================] - ETA: 0s - loss: 0.4946 - accuracy: 0.8246\n",
            "Epoch 8: val_loss improved from 0.59937 to 0.58817, saving model to Output/checkpoint-008-0.804.hdf5\n",
            "672/672 [==============================] - 92s 137ms/step - loss: 0.4946 - accuracy: 0.8246 - val_loss: 0.5882 - val_accuracy: 0.8043\n",
            "Epoch 9/100\n",
            "672/672 [==============================] - ETA: 0s - loss: 0.4599 - accuracy: 0.8346\n",
            "Epoch 9: val_loss improved from 0.58817 to 0.50765, saving model to Output/checkpoint-009-0.820.hdf5\n",
            "672/672 [==============================] - 93s 138ms/step - loss: 0.4599 - accuracy: 0.8346 - val_loss: 0.5077 - val_accuracy: 0.8199\n",
            "Epoch 10/100\n",
            "672/672 [==============================] - ETA: 0s - loss: 0.4309 - accuracy: 0.8454\n",
            "Epoch 10: val_loss improved from 0.50765 to 0.48127, saving model to Output/checkpoint-010-0.834.hdf5\n",
            "672/672 [==============================] - 95s 141ms/step - loss: 0.4309 - accuracy: 0.8454 - val_loss: 0.4813 - val_accuracy: 0.8341\n",
            "Epoch 11/100\n",
            "672/672 [==============================] - ETA: 0s - loss: 0.4029 - accuracy: 0.8522\n",
            "Epoch 11: val_loss did not improve from 0.48127\n",
            "672/672 [==============================] - 90s 134ms/step - loss: 0.4029 - accuracy: 0.8522 - val_loss: 0.5713 - val_accuracy: 0.8075\n",
            "Epoch 12/100\n",
            "672/672 [==============================] - ETA: 0s - loss: 0.3893 - accuracy: 0.8583\n",
            "Epoch 12: val_loss did not improve from 0.48127\n",
            "672/672 [==============================] - 92s 138ms/step - loss: 0.3893 - accuracy: 0.8583 - val_loss: 0.5020 - val_accuracy: 0.8227\n",
            "Epoch 13/100\n",
            "672/672 [==============================] - ETA: 0s - loss: 0.3703 - accuracy: 0.8656\n",
            "Epoch 13: val_loss improved from 0.48127 to 0.47137, saving model to Output/checkpoint-013-0.834.hdf5\n",
            "672/672 [==============================] - 93s 138ms/step - loss: 0.3703 - accuracy: 0.8656 - val_loss: 0.4714 - val_accuracy: 0.8343\n",
            "Epoch 14/100\n",
            "672/672 [==============================] - ETA: 0s - loss: 0.3447 - accuracy: 0.8753\n",
            "Epoch 14: val_loss did not improve from 0.47137\n",
            "672/672 [==============================] - 95s 142ms/step - loss: 0.3447 - accuracy: 0.8753 - val_loss: 0.4768 - val_accuracy: 0.8313\n",
            "Epoch 15/100\n",
            "672/672 [==============================] - ETA: 0s - loss: 0.3262 - accuracy: 0.8831\n",
            "Epoch 15: val_loss improved from 0.47137 to 0.45340, saving model to Output/checkpoint-015-0.835.hdf5\n",
            "672/672 [==============================] - 95s 141ms/step - loss: 0.3262 - accuracy: 0.8831 - val_loss: 0.4534 - val_accuracy: 0.8353\n",
            "Epoch 16/100\n",
            "672/672 [==============================] - ETA: 0s - loss: 0.3229 - accuracy: 0.8836\n",
            "Epoch 16: val_loss improved from 0.45340 to 0.38813, saving model to Output/checkpoint-016-0.864.hdf5\n",
            "672/672 [==============================] - 91s 136ms/step - loss: 0.3229 - accuracy: 0.8836 - val_loss: 0.3881 - val_accuracy: 0.8644\n",
            "Epoch 17/100\n",
            "672/672 [==============================] - ETA: 0s - loss: 0.2926 - accuracy: 0.8945\n",
            "Epoch 17: val_loss did not improve from 0.38813\n",
            "672/672 [==============================] - 96s 143ms/step - loss: 0.2926 - accuracy: 0.8945 - val_loss: 0.5055 - val_accuracy: 0.8245\n",
            "Epoch 18/100\n",
            "672/672 [==============================] - ETA: 0s - loss: 0.3019 - accuracy: 0.8920\n",
            "Epoch 18: val_loss did not improve from 0.38813\n",
            "672/672 [==============================] - 94s 140ms/step - loss: 0.3019 - accuracy: 0.8920 - val_loss: 0.3979 - val_accuracy: 0.8556\n",
            "Epoch 19/100\n",
            "672/672 [==============================] - ETA: 0s - loss: 0.2711 - accuracy: 0.9025\n",
            "Epoch 19: val_loss improved from 0.38813 to 0.37391, saving model to Output/checkpoint-019-0.877.hdf5\n",
            "672/672 [==============================] - 91s 136ms/step - loss: 0.2711 - accuracy: 0.9025 - val_loss: 0.3739 - val_accuracy: 0.8770\n",
            "Epoch 20/100\n",
            "672/672 [==============================] - ETA: 0s - loss: 0.2669 - accuracy: 0.9036\n",
            "Epoch 20: val_loss did not improve from 0.37391\n",
            "672/672 [==============================] - 90s 134ms/step - loss: 0.2669 - accuracy: 0.9036 - val_loss: 0.5065 - val_accuracy: 0.8450\n",
            "Epoch 21/100\n",
            "672/672 [==============================] - ETA: 0s - loss: 0.2817 - accuracy: 0.8981\n",
            "Epoch 21: val_loss did not improve from 0.37391\n",
            "672/672 [==============================] - 92s 137ms/step - loss: 0.2817 - accuracy: 0.8981 - val_loss: 0.4658 - val_accuracy: 0.8510\n",
            "Epoch 22/100\n",
            "672/672 [==============================] - ETA: 0s - loss: 0.2751 - accuracy: 0.9036\n",
            "Epoch 22: val_loss did not improve from 0.37391\n",
            "672/672 [==============================] - 94s 140ms/step - loss: 0.2751 - accuracy: 0.9036 - val_loss: 0.5206 - val_accuracy: 0.8311\n",
            "Epoch 23/100\n",
            "672/672 [==============================] - ETA: 0s - loss: 0.2493 - accuracy: 0.9122\n",
            "Epoch 23: val_loss did not improve from 0.37391\n",
            "672/672 [==============================] - 92s 137ms/step - loss: 0.2493 - accuracy: 0.9122 - val_loss: 0.3907 - val_accuracy: 0.8698\n",
            "Epoch 24/100\n",
            "672/672 [==============================] - ETA: 0s - loss: 0.2488 - accuracy: 0.9111\n",
            "Epoch 24: val_loss did not improve from 0.37391\n",
            "672/672 [==============================] - 90s 134ms/step - loss: 0.2488 - accuracy: 0.9111 - val_loss: 0.4410 - val_accuracy: 0.8640\n",
            "Epoch 25/100\n",
            "672/672 [==============================] - ETA: 0s - loss: 0.2204 - accuracy: 0.9216\n",
            "Epoch 25: val_loss did not improve from 0.37391\n",
            "672/672 [==============================] - 96s 143ms/step - loss: 0.2204 - accuracy: 0.9216 - val_loss: 0.4908 - val_accuracy: 0.8508\n"
          ]
        }
      ]
    },
    {
      "cell_type": "code",
      "source": [
        "plt.figure(figsize=(20,6))\n",
        "for i, met in enumerate(['accuracy', 'loss']):\n",
        "    plt.subplot(1,2,i+1)\n",
        "    plt.plot(history.history[met], color=\"b\")\n",
        "    plt.plot(history.history[\"val_\"+met], color=\"g\")\n",
        "    plt.title('Model '+met.capitalize())\n",
        "    plt.xlabel('epochs')\n",
        "    plt.ylabel(met)\n",
        "    plt.legend(['train', 'val'])"
      ],
      "metadata": {
        "id": "-2CFr_FhXPG4",
        "colab": {
          "base_uri": "https://localhost:8080/",
          "height": 387
        },
        "outputId": "06c65799-944c-4def-e9cd-96b1fd66030c"
      },
      "execution_count": null,
      "outputs": [
        {
          "output_type": "display_data",
          "data": {
            "text/plain": [
              "<Figure size 2000x600 with 2 Axes>"
            ],
            "image/png": "[encoded data removed]"
          },
          "metadata": {}
        }
      ]
    },
    {
      "cell_type": "code",
      "source": [
        "import pickle\n",
        "with open('seq_model_trainHistory', 'wb') as file_pi:\n",
        "        pickle.dump(history.history, file_pi)\n",
        "# To load history\n",
        "# history = pickle.load(open('seq_model_trainHistory', \"rb\"))"
      ],
      "metadata": {
        "id": "gGuvZ0dE2csZ"
      },
      "execution_count": null,
      "outputs": []
    },
    {
      "cell_type": "code",
      "source": [
        "!zip -r trained_models.zip Output\n",
        "clear_output()"
      ],
      "metadata": {
        "id": "Xsc7HLsz2-Qo"
      },
      "execution_count": null,
      "outputs": []
    },
    {
      "cell_type": "code",
      "source": [
        "!cp seq_model_trainHistory /content/drive/MyDrive/Criminal_Activity_Video_Surveillance_Dataset/\n",
        "!cp trained_models.zip /content/drive/MyDrive/Criminal_Activity_Video_Surveillance_Dataset/"
      ],
      "metadata": {
        "id": "reIfzqx33bDR"
      },
      "execution_count": null,
      "outputs": []
    },
    {
      "cell_type": "code",
      "source": [
        "os.mkdir(\"Output2\")"
      ],
      "metadata": {
        "id": "JqHjFJ-uBCqz"
      },
      "execution_count": null,
      "outputs": []
    },
    {
      "cell_type": "code",
      "source": [
        "history2 = seq_model.fit(train_gen,\n",
        "                        validation_data=val_gen,\n",
        "                        epochs=20,\n",
        "                        callbacks=CALLBACKS)"
      ],
      "metadata": {
        "colab": {
          "base_uri": "https://localhost:8080/"
        },
        "id": "TfmzyAOFA0LC",
        "outputId": "f8ecaa9d-1d7f-494e-b2d6-cb8e36968ce5"
      },
      "execution_count": null,
      "outputs": [
        {
          "output_type": "stream",
          "name": "stdout",
          "text": [
            "Epoch 1/20\n",
            "672/672 [==============================] - ETA: 0s - loss: 0.2271 - accuracy: 0.9182\n",
            "Epoch 1: val_loss improved from inf to 0.41007, saving model to Output2/checkpoint-001-0.875.hdf5\n",
            "672/672 [==============================] - 99s 148ms/step - loss: 0.2271 - accuracy: 0.9182 - val_loss: 0.4101 - val_accuracy: 0.8752\n",
            "Epoch 2/20\n",
            "672/672 [==============================] - ETA: 0s - loss: 0.2120 - accuracy: 0.9223\n",
            "Epoch 2: val_loss improved from 0.41007 to 0.39140, saving model to Output2/checkpoint-002-0.882.hdf5\n",
            "672/672 [==============================] - 89s 132ms/step - loss: 0.2120 - accuracy: 0.9223 - val_loss: 0.3914 - val_accuracy: 0.8820\n",
            "Epoch 3/20\n",
            "672/672 [==============================] - ETA: 0s - loss: 0.2129 - accuracy: 0.9229\n",
            "Epoch 3: val_loss did not improve from 0.39140\n",
            "672/672 [==============================] - 91s 135ms/step - loss: 0.2129 - accuracy: 0.9229 - val_loss: 0.4036 - val_accuracy: 0.8706\n",
            "Epoch 4/20\n",
            "672/672 [==============================] - ETA: 0s - loss: 0.2053 - accuracy: 0.9279\n",
            "Epoch 4: val_loss improved from 0.39140 to 0.37484, saving model to Output2/checkpoint-004-0.882.hdf5\n",
            "672/672 [==============================] - 91s 135ms/step - loss: 0.2053 - accuracy: 0.9279 - val_loss: 0.3748 - val_accuracy: 0.8820\n",
            "Epoch 5/20\n",
            "672/672 [==============================] - ETA: 0s - loss: 0.2058 - accuracy: 0.9262\n",
            "Epoch 5: val_loss did not improve from 0.37484\n",
            "672/672 [==============================] - 91s 135ms/step - loss: 0.2058 - accuracy: 0.9262 - val_loss: 0.4366 - val_accuracy: 0.8654\n",
            "Epoch 6/20\n",
            "672/672 [==============================] - ETA: 0s - loss: 0.1965 - accuracy: 0.9289\n",
            "Epoch 6: val_loss improved from 0.37484 to 0.36882, saving model to Output2/checkpoint-006-0.891.hdf5\n",
            "672/672 [==============================] - 91s 136ms/step - loss: 0.1965 - accuracy: 0.9289 - val_loss: 0.3688 - val_accuracy: 0.8906\n",
            "Epoch 7/20\n",
            "672/672 [==============================] - ETA: 0s - loss: 0.1895 - accuracy: 0.9320\n",
            "Epoch 7: val_loss improved from 0.36882 to 0.36016, saving model to Output2/checkpoint-007-0.885.hdf5\n",
            "672/672 [==============================] - 93s 139ms/step - loss: 0.1895 - accuracy: 0.9320 - val_loss: 0.3602 - val_accuracy: 0.8850\n",
            "Epoch 8/20\n",
            "672/672 [==============================] - ETA: 0s - loss: 0.1900 - accuracy: 0.9310\n",
            "Epoch 8: val_loss did not improve from 0.36016\n",
            "672/672 [==============================] - 90s 134ms/step - loss: 0.1900 - accuracy: 0.9310 - val_loss: 0.3966 - val_accuracy: 0.8794\n",
            "Epoch 9/20\n",
            "672/672 [==============================] - ETA: 0s - loss: 0.1811 - accuracy: 0.9354\n",
            "Epoch 9: val_loss did not improve from 0.36016\n",
            "672/672 [==============================] - 92s 137ms/step - loss: 0.1811 - accuracy: 0.9354 - val_loss: 0.4247 - val_accuracy: 0.8732\n",
            "Epoch 10/20\n",
            "672/672 [==============================] - ETA: 0s - loss: 0.1678 - accuracy: 0.9416\n",
            "Epoch 10: val_loss did not improve from 0.36016\n",
            "672/672 [==============================] - 95s 141ms/step - loss: 0.1678 - accuracy: 0.9416 - val_loss: 0.4072 - val_accuracy: 0.8756\n",
            "Epoch 11/20\n",
            "672/672 [==============================] - ETA: 0s - loss: 0.1663 - accuracy: 0.9417\n",
            "Epoch 11: val_loss did not improve from 0.36016\n",
            "672/672 [==============================] - 92s 137ms/step - loss: 0.1663 - accuracy: 0.9417 - val_loss: 0.4425 - val_accuracy: 0.8644\n",
            "Epoch 12/20\n",
            "672/672 [==============================] - ETA: 0s - loss: 0.1712 - accuracy: 0.9393\n",
            "Epoch 12: val_loss did not improve from 0.36016\n",
            "672/672 [==============================] - 90s 134ms/step - loss: 0.1712 - accuracy: 0.9393 - val_loss: 0.3603 - val_accuracy: 0.8964\n",
            "Epoch 13/20\n",
            "672/672 [==============================] - ETA: 0s - loss: 0.1667 - accuracy: 0.9416\n",
            "Epoch 13: val_loss did not improve from 0.36016\n",
            "672/672 [==============================] - 92s 137ms/step - loss: 0.1667 - accuracy: 0.9416 - val_loss: 0.3874 - val_accuracy: 0.8866\n",
            "Epoch 14/20\n",
            "672/672 [==============================] - ETA: 0s - loss: 0.1488 - accuracy: 0.9472\n",
            "Epoch 14: val_loss did not improve from 0.36016\n",
            "672/672 [==============================] - 95s 142ms/step - loss: 0.1488 - accuracy: 0.9472 - val_loss: 0.4193 - val_accuracy: 0.8830\n",
            "Epoch 15/20\n",
            "672/672 [==============================] - ETA: 0s - loss: 0.1549 - accuracy: 0.9455\n",
            "Epoch 15: val_loss did not improve from 0.36016\n",
            "672/672 [==============================] - 92s 137ms/step - loss: 0.1549 - accuracy: 0.9455 - val_loss: 0.4353 - val_accuracy: 0.8754\n"
          ]
        }
      ]
    },
    {
      "cell_type": "code",
      "source": [
        "import pickle\n",
        "with open('seq_model_trainHistory2', 'wb') as file_pi:\n",
        "        pickle.dump(history2.history, file_pi)\n",
        "# To load history\n",
        "# history = pickle.load(open('seq_model_trainHistory2', \"rb\"))"
      ],
      "metadata": {
        "id": "REDrtwFyHsNI"
      },
      "execution_count": null,
      "outputs": []
    },
    {
      "cell_type": "code",
      "source": [
        "!zip -r trained_models2.zip Output2\n",
        "clear_output()"
      ],
      "metadata": {
        "id": "cbL5B-CDIlfb"
      },
      "execution_count": null,
      "outputs": []
    },
    {
      "cell_type": "code",
      "source": [
        "!cp seq_model_trainHistory2 /content/drive/MyDrive/Criminal_Activity_Video_Surveillance_Dataset/\n",
        "!cp trained_models2.zip /content/drive/MyDrive/Criminal_Activity_Video_Surveillance_Dataset/"
      ],
      "metadata": {
        "id": "cQpKrJLuIcal"
      },
      "execution_count": null,
      "outputs": []
    },
    {
      "cell_type": "code",
      "source": [
        "loss = []\n",
        "val_loss = []\n",
        "accuracy = []\n",
        "val_accuracy = []\n",
        "\n",
        "loss.extend(history.history['loss'])\n",
        "loss.extend(history2.history['loss'])\n",
        "\n",
        "val_loss.extend(history.history['val_loss'])\n",
        "val_loss.extend(history2.history['val_loss'])\n",
        "\n",
        "accuracy.extend(history.history['accuracy'])\n",
        "accuracy.extend(history2.history['accuracy'])\n",
        "\n",
        "val_accuracy.extend(history.history['val_accuracy'])\n",
        "val_accuracy.extend(history2.history['val_accuracy'])\n",
        "\n",
        "overall_history = {}\n",
        "overall_history['loss'] = loss\n",
        "overall_history['val_loss'] = val_loss\n",
        "overall_history['accuracy'] = accuracy\n",
        "overall_history['val_accuracy'] = val_accuracy"
      ],
      "metadata": {
        "id": "IPiiiv3NHgKA"
      },
      "execution_count": null,
      "outputs": []
    },
    {
      "cell_type": "code",
      "source": [
        "len(overall_history['val_accuracy'])"
      ],
      "metadata": {
        "colab": {
          "base_uri": "https://localhost:8080/"
        },
        "id": "wKAUM79UMAE-",
        "outputId": "8fb4e402-46f6-4c73-ee7f-81f034867947"
      },
      "execution_count": null,
      "outputs": [
        {
          "output_type": "execute_result",
          "data": {
            "text/plain": [
              "40"
            ]
          },
          "metadata": {},
          "execution_count": 45
        }
      ]
    },
    {
      "cell_type": "code",
      "source": [],
      "metadata": {
        "colab": {
          "base_uri": "https://localhost:8080/"
        },
        "id": "LbrG3ICWLySA",
        "outputId": "9ea8683f-d85a-447a-8aec-6dd598ed7372"
      },
      "execution_count": null,
      "outputs": [
        {
          "output_type": "execute_result",
          "data": {
            "text/plain": [
              "36"
            ]
          },
          "metadata": {},
          "execution_count": 44
        }
      ]
    },
    {
      "cell_type": "code",
      "source": [
        "plt.figure(figsize=(20,6))\n",
        "for i, met in enumerate(['accuracy', 'loss']):\n",
        "    plt.subplot(1,2,i+1)\n",
        "    plt.plot(overall_history[met], color=\"b\")\n",
        "    plt.plot(overall_history[\"val_\"+met], color=\"g\")\n",
        "    if met=='accuracy':\n",
        "        plt.vlines(x=np.argmax(overall_history['val_accuracy']), ymin=0.6, ymax=1, colors='brown', ls=':', lw=1, label='best model')\n",
        "    plt.title('Model '+met.capitalize())\n",
        "    plt.xlabel('epochs')\n",
        "    plt.ylabel(met)\n",
        "    if met=='accuracy':\n",
        "        plt.legend(['train', 'val', 'best model'])\n",
        "    else:\n",
        "        plt.legend(['train', 'val'])"
      ],
      "metadata": {
        "colab": {
          "base_uri": "https://localhost:8080/",
          "height": 390
        },
        "id": "-MBiqeXP3v54",
        "outputId": "591b31ed-deac-43cd-af58-31c24b66516a"
      },
      "execution_count": null,
      "outputs": [
        {
          "output_type": "display_data",
          "data": {
            "text/plain": [
              "<Figure size 2000x600 with 2 Axes>"
            ],
            "image/png": "[encoded data removed]"
          },
          "metadata": {}
        }
      ]
    },
    {
      "cell_type": "code",
      "source": [
        "import pickle\n",
        "with open('overall_seq_model_trainHistory', 'wb') as file_pi:\n",
        "    pickle.dump(overall_history, file_pi)\n",
        "# To load history\n",
        "# history = pickle.load(open('overall_seq_model_trainHistory', \"rb\"))"
      ],
      "metadata": {
        "id": "k-et4Se6KLC4"
      },
      "execution_count": null,
      "outputs": []
    },
    {
      "cell_type": "code",
      "source": [
        "!cp overall_seq_model_trainHistory /content/drive/MyDrive/Criminal_Activity_Video_Surveillance_Dataset/"
      ],
      "metadata": {
        "id": "aw3L_ULzKmc-"
      },
      "execution_count": null,
      "outputs": []
    },
    {
      "cell_type": "code",
      "source": [],
      "metadata": {
        "id": "hhkzM6SIKzC2"
      },
      "execution_count": null,
      "outputs": []
    },
    {
      "cell_type": "code",
      "source": [],
      "metadata": {
        "id": "0YyRp4qoA7Y1"
      },
      "execution_count": null,
      "outputs": []
    },
    {
      "cell_type": "code",
      "source": [
        "# Saving Best Model in drive"
      ],
      "metadata": {
        "id": "CygwmR2fA7VW"
      },
      "execution_count": null,
      "outputs": []
    },
    {
      "cell_type": "code",
      "source": [
        "# feature_extractor.save(\"feature_extractor_inceptionv3.h5\")"
      ],
      "metadata": {
        "colab": {
          "base_uri": "https://localhost:8080/"
        },
        "id": "L7tq2kvCA8vU",
        "outputId": "6a578dfa-ee6d-49a5-bb5c-57acd69a47dc"
      },
      "execution_count": null,
      "outputs": [
        {
          "output_type": "stream",
          "name": "stderr",
          "text": [
            "WARNING:tensorflow:Compiled the loaded model, but the compiled metrics have yet to be built. `model.compile_metrics` will be empty until you train or evaluate the model.\n"
          ]
        }
      ]
    },
    {
      "cell_type": "code",
      "source": [
        "# !cp feature_extractor_inceptionv3.h5 drive/MyDrive/Criminal_Activity_Video_Surveillance_Dataset/Models/"
      ],
      "metadata": {
        "id": "X9bkVyxnBaeS"
      },
      "execution_count": null,
      "outputs": []
    },
    {
      "cell_type": "code",
      "source": [
        "!unzip drive/MyDrive/Criminal_Activity_Video_Surveillance_Dataset/trained_models.zip"
      ],
      "metadata": {
        "colab": {
          "base_uri": "https://localhost:8080/"
        },
        "id": "aajLuCInDunC",
        "outputId": "e50d1102-4cdc-4ea3-becd-87ac105e6418"
      },
      "execution_count": null,
      "outputs": [
        {
          "output_type": "stream",
          "name": "stdout",
          "text": [
            "Archive:  drive/MyDrive/Criminal_Activity_Video_Surveillance_Dataset/trained_models.zip\n",
            "   creating: Output/\n",
            "  inflating: Output/checkpoint-015-0.835.hdf5  \n",
            "  inflating: Output/checkpoint-013-0.834.hdf5  \n",
            "  inflating: Output/checkpoint-008-0.804.hdf5  \n",
            "  inflating: Output/checkpoint-004-0.760.hdf5  \n",
            "  inflating: Output/checkpoint-005-0.786.hdf5  \n",
            "  inflating: Output/checkpoint-009-0.820.hdf5  \n",
            "  inflating: Output/checkpoint-002-0.681.hdf5  \n",
            "  inflating: Output/checkpoint-001-0.643.hdf5  \n",
            "  inflating: Output/checkpoint-003-0.746.hdf5  \n",
            "  inflating: Output/checkpoint-016-0.864.hdf5  \n",
            "  inflating: Output/checkpoint-010-0.834.hdf5  \n",
            "  inflating: Output/checkpoint-019-0.877.hdf5  \n",
            "  inflating: Output/checkpoint-007-0.795.hdf5  \n"
          ]
        }
      ]
    },
    {
      "cell_type": "code",
      "source": [
        "with tf.device('/GPU:0'):\n",
        "    seq_model = get_sequence_model()\n",
        "    seq_model.load_weights(\"/content/Output/checkpoint-019-0.877.hdf5\")\n",
        "seq_model.summary()"
      ],
      "metadata": {
        "colab": {
          "base_uri": "https://localhost:8080/"
        },
        "id": "TBQFBzZkB8og",
        "outputId": "6cbc8f03-b031-4aa5-be47-27ef34062b23"
      },
      "execution_count": null,
      "outputs": [
        {
          "output_type": "stream",
          "name": "stdout",
          "text": [
            "Model: \"model_1\"\n",
            "_________________________________________________________________\n",
            " Layer (type)                Output Shape              Param #   \n",
            "=================================================================\n",
            " input_4 (InputLayer)        [(None, 32, 2048)]        0         \n",
            "                                                                 \n",
            " lstm_2 (LSTM)               (None, 32, 256)           2360320   \n",
            "                                                                 \n",
            " lstm_3 (LSTM)               (None, 128)               197120    \n",
            "                                                                 \n",
            " dropout_1 (Dropout)         (None, 128)               0         \n",
            "                                                                 \n",
            " dense_2 (Dense)             (None, 32)                4128      \n",
            "                                                                 \n",
            " dense_3 (Dense)             (None, 10)                330       \n",
            "                                                                 \n",
            "=================================================================\n",
            "Total params: 2,561,898\n",
            "Trainable params: 2,561,898\n",
            "Non-trainable params: 0\n",
            "_________________________________________________________________\n"
          ]
        }
      ]
    },
    {
      "cell_type": "code",
      "source": [
        "# seq_model.save(\"classifier_lstm_e19.h5\")"
      ],
      "metadata": {
        "id": "bUGzt1dQCMz2"
      },
      "execution_count": null,
      "outputs": []
    },
    {
      "cell_type": "code",
      "source": [
        "# !cp classifier_lstm_e19.h5 drive/MyDrive/Criminal_Activity_Video_Surveillance_Dataset/Models/"
      ],
      "metadata": {
        "id": "-vUKJmm_EOxU"
      },
      "execution_count": null,
      "outputs": []
    },
    {
      "cell_type": "code",
      "source": [],
      "metadata": {
        "id": "zLpiZDtfEWZC"
      },
      "execution_count": null,
      "outputs": []
    }
  ]
}