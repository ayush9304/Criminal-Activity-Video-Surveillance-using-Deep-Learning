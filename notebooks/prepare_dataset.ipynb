{
 "cells": [
  {
   "cell_type": "code",
   "execution_count": 5,
   "id": "c40d718c-877a-492c-9b61-89b762137450",
   "metadata": {
    "tags": []
   },
   "outputs": [],
   "source": [
    "import os\n",
    "import glob\n",
    "import pandas as pd\n",
    "import numpy as np\n",
    "from moviepy import editor\n",
    "from tqdm.notebook import tqdm_notebook"
   ]
  },
  {
   "cell_type": "code",
   "execution_count": 2,
   "id": "6d127a65-21c2-4058-bad2-8d6800b4a70a",
   "metadata": {},
   "outputs": [],
   "source": [
    "def get_time(timestamp, e=0, max_t=None):\n",
    "    if e>0 and max_t is None:\n",
    "        print(\"Please provide max_t\")\n",
    "        return\n",
    "    if \":\" in timestamp:\n",
    "        minute = int(timestamp.split(\":\")[0])*60\n",
    "        second = float(timestamp.split(\":\")[1])\n",
    "        t = minute + second\n",
    "        return max(t+e, 0) if e<0 else min(t+e, max_t)\n",
    "    else:\n",
    "        try:\n",
    "            return max(float(timestamp)+e, 0) if e<0 else min(float(timestamp)+e, max_t)\n",
    "        except Exception as e:\n",
    "            print(e)"
   ]
  },
  {
   "cell_type": "code",
   "execution_count": 3,
   "id": "208b7318-a9b9-467d-ba31-1a202b324589",
   "metadata": {},
   "outputs": [],
   "source": [
    "def get_filename(file, n):\n",
    "    ext = \".\"+file.split('.')[-1]\n",
    "    new_name = file[:-len(ext)] + \"_\" + str(n) + ext\n",
    "    return new_name"
   ]
  },
  {
   "cell_type": "code",
   "execution_count": 4,
   "id": "df39f8c3-3e29-4872-8e47-2c547705c24a",
   "metadata": {},
   "outputs": [],
   "source": [
    "def extract_clips(data_dir, root=\"Data\", output_root=\"Processed-Videos\", gap=2, skip_classes=[]):\n",
    "    base_path = os.path.join(root, data_dir)\n",
    "    if not os.path.exists(base_path):\n",
    "        print(f\"{base_path} does not exists.\")\n",
    "        return\n",
    "    subdirs = []\n",
    "    for d in os.listdir(base_path):\n",
    "        if os.path.isdir(os.path.join(base_path, d)):\n",
    "            subdirs.append(d)\n",
    "    for d in subdirs:\n",
    "        if d in skip_classes:\n",
    "            continue\n",
    "        os.mkdir(os.path.join(root, output_root, d))\n",
    "        file = open(os.path.join(base_path, f\"{d}_Labels.txt\"), mode='r', encoding='utf-8')\n",
    "        lines = file.readlines()\n",
    "        print(f\"Processing {d} category videos:\")\n",
    "        for line in tqdm_notebook(lines):\n",
    "            l = line.strip().split()\n",
    "            vid_name = l[0]\n",
    "            vid_path = os.path.join(base_path, d, vid_name)\n",
    "            if os.path.exists(vid_path):\n",
    "                video = editor.VideoFileClip(vid_path)\n",
    "                if len(l[1:])%2 != 0:\n",
    "                    print(f\"Timestamps are not in complete pairs. Ignoring last timestamp for video {os.path.join(base_path, d, vid_name)}\")\n",
    "                anomaly_timestamps = []\n",
    "                # Anamoly part extraction\n",
    "                n_pairs = len(l[1:])//2\n",
    "                for n in range(n_pairs):\n",
    "                    new_vid = f\"{os.path.join(root, output_root, d, get_filename(vid_name, n))}\"\n",
    "                    t1, t2 = get_time(l[n*2+1], e=-0.7), get_time(l[n*2+2], e=0.7, max_t=video.duration)\n",
    "                    if t1 is not None and t2 is not None:\n",
    "                        clip = video.subclip(t1, t2)\n",
    "                        clip.write_videofile(new_vid, logger=None)\n",
    "                        anomaly_timestamps.append((t1, t2))\n",
    "                    else:\n",
    "                        print(f\"Skipping timestamps pairs {l[n*2+1]} and {l[n*2+2]} for {vid_path}\")\n",
    "                # Normal part extraction\n",
    "                normal_output_dir = os.path.join(root, output_root, \"Normal\")\n",
    "                if not os.path.exists(normal_output_dir):\n",
    "                    os.mkdir(normal_output_dir)\n",
    "                normal_timestamps = []\n",
    "                if len(anomaly_timestamps) > 0:\n",
    "                    if anomaly_timestamps[0][0]-gap > 0:   # gap b/w normal & anomaly\n",
    "                        normal_timestamps.append((0, anomaly_timestamps[0][0]-gap))\n",
    "                    for i in range(len(anomaly_timestamps)-1):\n",
    "                        start = anomaly_timestamps[i][1]+gap\n",
    "                        end = anomaly_timestamps[i+1][0]-gap\n",
    "                        if end-start > 0:\n",
    "                            normal_timestamps.append((start, end))\n",
    "                    if anomaly_timestamps[-1][1]+gap < video.duration:\n",
    "                        normal_timestamps.append((anomaly_timestamps[-1][1]+gap, video.duration))\n",
    "                for i, t in enumerate(normal_timestamps):\n",
    "                    if t[1]-t[0]>=1.3:\n",
    "                        clip = video.subclip(t[0], t[1])\n",
    "                        new_vid = f\"{os.path.join(normal_output_dir, get_filename('Normal_'+vid_name, i))}\"\n",
    "                        clip.write_videofile(new_vid, logger=None)\n",
    "            else:\n",
    "                print(f\"{vid_path} doesnot exists. Skipping...\")"
   ]
  },
  {
   "cell_type": "code",
   "execution_count": 9,
   "id": "5b8670ff-9b11-43b4-8971-42312d1bb860",
   "metadata": {
    "tags": []
   },
   "outputs": [
    {
     "name": "stdout",
     "output_type": "stream",
     "text": [
      "Processing RoadAccidents category videos:\n"
     ]
    },
    {
     "data": {
      "application/json": {
       "ascii": false,
       "bar_format": null,
       "colour": null,
       "elapsed": 0.08003687858581543,
       "initial": 0,
       "n": 0,
       "ncols": null,
       "nrows": 29,
       "postfix": null,
       "prefix": "",
       "rate": null,
       "total": 149,
       "unit": "it",
       "unit_divisor": 1000,
       "unit_scale": false
      },
      "application/vnd.jupyter.widget-view+json": {
       "model_id": "2eeb81c24e15466382bade658e2b3414",
       "version_major": 2,
       "version_minor": 0
      },
      "text/plain": [
       "  0%|          | 0/149 [00:00<?, ?it/s]"
      ]
     },
     "metadata": {},
     "output_type": "display_data"
    },
    {
     "name": "stdout",
     "output_type": "stream",
     "text": [
      "Processing Robbery category videos:\n"
     ]
    },
    {
     "data": {
      "application/json": {
       "ascii": false,
       "bar_format": null,
       "colour": null,
       "elapsed": 0.07599997520446777,
       "initial": 0,
       "n": 0,
       "ncols": null,
       "nrows": 29,
       "postfix": null,
       "prefix": "",
       "rate": null,
       "total": 150,
       "unit": "it",
       "unit_divisor": 1000,
       "unit_scale": false
      },
      "application/vnd.jupyter.widget-view+json": {
       "model_id": "9713069cd0434eae807d5d67ef0483bb",
       "version_major": 2,
       "version_minor": 0
      },
      "text/plain": [
       "  0%|          | 0/150 [00:00<?, ?it/s]"
      ]
     },
     "metadata": {},
     "output_type": "display_data"
    },
    {
     "name": "stdout",
     "output_type": "stream",
     "text": [
      "Processing Shooting category videos:\n"
     ]
    },
    {
     "data": {
      "application/json": {
       "ascii": false,
       "bar_format": null,
       "colour": null,
       "elapsed": 0.05500388145446777,
       "initial": 0,
       "n": 0,
       "ncols": null,
       "nrows": 29,
       "postfix": null,
       "prefix": "",
       "rate": null,
       "total": 50,
       "unit": "it",
       "unit_divisor": 1000,
       "unit_scale": false
      },
      "application/vnd.jupyter.widget-view+json": {
       "model_id": "5e4f23a0dcd14101be057e0c495008e1",
       "version_major": 2,
       "version_minor": 0
      },
      "text/plain": [
       "  0%|          | 0/50 [00:00<?, ?it/s]"
      ]
     },
     "metadata": {},
     "output_type": "display_data"
    }
   ],
   "source": [
    "extract_clips(\"Anomaly-Videos-Part-3\")"
   ]
  },
  {
   "cell_type": "code",
   "execution_count": 10,
   "id": "f34a8348-79b7-42e1-b27b-15e7b4607a8c",
   "metadata": {},
   "outputs": [
    {
     "name": "stdout",
     "output_type": "stream",
     "text": [
      "Processing Burglary category videos:\n"
     ]
    },
    {
     "data": {
      "application/json": {
       "ascii": false,
       "bar_format": null,
       "colour": null,
       "elapsed": 0.09100174903869629,
       "initial": 0,
       "n": 0,
       "ncols": null,
       "nrows": 29,
       "postfix": null,
       "prefix": "",
       "rate": null,
       "total": 106,
       "unit": "it",
       "unit_divisor": 1000,
       "unit_scale": false
      },
      "application/vnd.jupyter.widget-view+json": {
       "model_id": "f29f5d472f8b4924b03b03f3689fd38a",
       "version_major": 2,
       "version_minor": 0
      },
      "text/plain": [
       "  0%|          | 0/106 [00:00<?, ?it/s]"
      ]
     },
     "metadata": {},
     "output_type": "display_data"
    },
    {
     "name": "stdout",
     "output_type": "stream",
     "text": [
      "Processing Explosion category videos:\n"
     ]
    },
    {
     "data": {
      "application/json": {
       "ascii": false,
       "bar_format": null,
       "colour": null,
       "elapsed": 0.08800315856933594,
       "initial": 0,
       "n": 0,
       "ncols": null,
       "nrows": 29,
       "postfix": null,
       "prefix": "",
       "rate": null,
       "total": 51,
       "unit": "it",
       "unit_divisor": 1000,
       "unit_scale": false
      },
      "application/vnd.jupyter.widget-view+json": {
       "model_id": "1a1bff9f731a42809b61f2b39d54a9de",
       "version_major": 2,
       "version_minor": 0
      },
      "text/plain": [
       "  0%|          | 0/51 [00:00<?, ?it/s]"
      ]
     },
     "metadata": {},
     "output_type": "display_data"
    },
    {
     "ename": "IndexError",
     "evalue": "list index out of range",
     "output_type": "error",
     "traceback": [
      "\u001b[1;31m---------------------------------------------------------------------------\u001b[0m",
      "\u001b[1;31mIndexError\u001b[0m                                Traceback (most recent call last)",
      "Input \u001b[1;32mIn [10]\u001b[0m, in \u001b[0;36m<module>\u001b[1;34m\u001b[0m\n\u001b[1;32m----> 1\u001b[0m \u001b[43mextract_clips\u001b[49m\u001b[43m(\u001b[49m\u001b[38;5;124;43m\"\u001b[39;49m\u001b[38;5;124;43mAnomaly-Videos-Part-2\u001b[39;49m\u001b[38;5;124;43m\"\u001b[39;49m\u001b[43m)\u001b[49m\n",
      "Input \u001b[1;32mIn [8]\u001b[0m, in \u001b[0;36mextract_clips\u001b[1;34m(data_dir, root, output_root, gap)\u001b[0m\n\u001b[0;32m     15\u001b[0m \u001b[38;5;28;01mfor\u001b[39;00m line \u001b[38;5;129;01min\u001b[39;00m tqdm_notebook(lines):\n\u001b[0;32m     16\u001b[0m     l \u001b[38;5;241m=\u001b[39m line\u001b[38;5;241m.\u001b[39mstrip()\u001b[38;5;241m.\u001b[39msplit()\n\u001b[1;32m---> 17\u001b[0m     vid_name \u001b[38;5;241m=\u001b[39m \u001b[43ml\u001b[49m\u001b[43m[\u001b[49m\u001b[38;5;241;43m0\u001b[39;49m\u001b[43m]\u001b[49m\n\u001b[0;32m     18\u001b[0m     vid_path \u001b[38;5;241m=\u001b[39m os\u001b[38;5;241m.\u001b[39mpath\u001b[38;5;241m.\u001b[39mjoin(base_path, d, vid_name)\n\u001b[0;32m     19\u001b[0m     \u001b[38;5;28;01mif\u001b[39;00m os\u001b[38;5;241m.\u001b[39mpath\u001b[38;5;241m.\u001b[39mexists(vid_path):\n",
      "\u001b[1;31mIndexError\u001b[0m: list index out of range"
     ]
    }
   ],
   "source": [
    "extract_clips(\"Anomaly-Videos-Part-2\")"
   ]
  },
  {
   "cell_type": "code",
   "execution_count": 12,
   "id": "f9b911d2-4410-4380-b833-e5746e3c2b88",
   "metadata": {},
   "outputs": [
    {
     "name": "stdout",
     "output_type": "stream",
     "text": [
      "Processing Fighting category videos:\n"
     ]
    },
    {
     "data": {
      "application/json": {
       "ascii": false,
       "bar_format": null,
       "colour": null,
       "elapsed": 0.09593033790588379,
       "initial": 0,
       "n": 0,
       "ncols": null,
       "nrows": 29,
       "postfix": null,
       "prefix": "",
       "rate": null,
       "total": 58,
       "unit": "it",
       "unit_divisor": 1000,
       "unit_scale": false
      },
      "application/vnd.jupyter.widget-view+json": {
       "model_id": "ef072754a0044f3e970057544acfe736",
       "version_major": 2,
       "version_minor": 0
      },
      "text/plain": [
       "  0%|          | 0/58 [00:00<?, ?it/s]"
      ]
     },
     "metadata": {},
     "output_type": "display_data"
    }
   ],
   "source": [
    "extract_clips(\"Anomaly-Videos-Part-2\", skip_classes=[\"Burglary\", \"Explosion\"])"
   ]
  },
  {
   "cell_type": "code",
   "execution_count": 13,
   "id": "0e90eef6-88e0-4829-9339-e9d1a7aa9aba",
   "metadata": {},
   "outputs": [
    {
     "name": "stdout",
     "output_type": "stream",
     "text": [
      "Processing Abuse category videos:\n"
     ]
    },
    {
     "data": {
      "application/json": {
       "ascii": false,
       "bar_format": null,
       "colour": null,
       "elapsed": 0.10399794578552246,
       "initial": 0,
       "n": 0,
       "ncols": null,
       "nrows": 29,
       "postfix": null,
       "prefix": "",
       "rate": null,
       "total": 50,
       "unit": "it",
       "unit_divisor": 1000,
       "unit_scale": false
      },
      "application/vnd.jupyter.widget-view+json": {
       "model_id": "fef3fff24d414644a4bb55933bafebb4",
       "version_major": 2,
       "version_minor": 0
      },
      "text/plain": [
       "  0%|          | 0/50 [00:00<?, ?it/s]"
      ]
     },
     "metadata": {},
     "output_type": "display_data"
    },
    {
     "name": "stdout",
     "output_type": "stream",
     "text": [
      "Processing Arson category videos:\n"
     ]
    },
    {
     "data": {
      "application/json": {
       "ascii": false,
       "bar_format": null,
       "colour": null,
       "elapsed": 0.0721290111541748,
       "initial": 0,
       "n": 0,
       "ncols": null,
       "nrows": 29,
       "postfix": null,
       "prefix": "",
       "rate": null,
       "total": 48,
       "unit": "it",
       "unit_divisor": 1000,
       "unit_scale": false
      },
      "application/vnd.jupyter.widget-view+json": {
       "model_id": "b79f38fab61e4cae868c986730140542",
       "version_major": 2,
       "version_minor": 0
      },
      "text/plain": [
       "  0%|          | 0/48 [00:00<?, ?it/s]"
      ]
     },
     "metadata": {},
     "output_type": "display_data"
    },
    {
     "name": "stdout",
     "output_type": "stream",
     "text": [
      "Processing Assault category videos:\n"
     ]
    },
    {
     "data": {
      "application/json": {
       "ascii": false,
       "bar_format": null,
       "colour": null,
       "elapsed": 0.06299567222595215,
       "initial": 0,
       "n": 0,
       "ncols": null,
       "nrows": 29,
       "postfix": null,
       "prefix": "",
       "rate": null,
       "total": 50,
       "unit": "it",
       "unit_divisor": 1000,
       "unit_scale": false
      },
      "application/vnd.jupyter.widget-view+json": {
       "model_id": "8bc9919e20ba49a0a81d3680f1c4ff7d",
       "version_major": 2,
       "version_minor": 0
      },
      "text/plain": [
       "  0%|          | 0/50 [00:00<?, ?it/s]"
      ]
     },
     "metadata": {},
     "output_type": "display_data"
    }
   ],
   "source": [
    "extract_clips(\"Anomaly-Videos-Part-1\")"
   ]
  },
  {
   "cell_type": "code",
   "execution_count": null,
   "id": "a8259902-e015-4446-a86d-ae4db416298e",
   "metadata": {},
   "outputs": [],
   "source": []
  },
  {
   "cell_type": "markdown",
   "id": "d545ada2-877e-4a92-99f5-84386ca5f872",
   "metadata": {},
   "source": [
    "## Splitting Videos into 64 frames clips"
   ]
  },
  {
   "cell_type": "code",
   "execution_count": 19,
   "id": "f6f7ac7b-9ad6-4cd5-9b41-e4904a33a2d7",
   "metadata": {},
   "outputs": [],
   "source": [
    "def trim_clips(MAX_SEQ_LENGTH=40, output_dir=\"Trimmed-Videos\", input_dir=\"Processed-Videos\", root=\"Data\"):\n",
    "    if not os.path.exists(os.path.join(root, output_dir)):\n",
    "        os.mkdir(os.path.join(root, output_dir))\n",
    "    for cat in os.listdir(f\"{root}/{input_dir}/\"):\n",
    "        os.mkdir(os.path.join(root, output_dir, cat))\n",
    "        print(f\"Processing {cat} category videos:\")\n",
    "        for file in tqdm_notebook(glob.glob(f\"{root}/{input_dir}/{cat}/*\")):\n",
    "            video = editor.VideoFileClip(file)\n",
    "            vid_name = file.split(\"\\\\\")[-1].strip()\n",
    "            fps = video.fps\n",
    "            interval = (1/fps)*MAX_SEQ_LENGTH\n",
    "            t = 0\n",
    "            counter = 0\n",
    "            while (video.duration-t)>= interval:\n",
    "                clip = video.subclip(t, t+interval)\n",
    "                clip.write_videofile(f\"{root}/{output_dir}/{cat}/{get_filename(vid_name, counter)}\", logger=None)\n",
    "                counter += 1\n",
    "                t += interval\n",
    "            if (video.duration-t) > 1.4:\n",
    "                clip = video.subclip(video.duration-interval, video.duration)\n",
    "                clip.write_videofile(f\"{root}/{output_dir}/{cat}/{get_filename(vid_name, counter)}\", logger=None)\n",
    "            video.close()"
   ]
  },
  {
   "cell_type": "code",
   "execution_count": 20,
   "id": "c90ace16-e601-412e-b1e1-02f97f72f815",
   "metadata": {},
   "outputs": [
    {
     "name": "stdout",
     "output_type": "stream",
     "text": [
      "Processing Abuse category videos:\n"
     ]
    },
    {
     "data": {
      "application/json": {
       "ascii": false,
       "bar_format": null,
       "colour": null,
       "elapsed": 0.08053994178771973,
       "initial": 0,
       "n": 0,
       "ncols": null,
       "nrows": 29,
       "postfix": null,
       "prefix": "",
       "rate": null,
       "total": 77,
       "unit": "it",
       "unit_divisor": 1000,
       "unit_scale": false
      },
      "application/vnd.jupyter.widget-view+json": {
       "model_id": "5658f5b8cee14d86b8081fde6be6090e",
       "version_major": 2,
       "version_minor": 0
      },
      "text/plain": [
       "  0%|          | 0/77 [00:00<?, ?it/s]"
      ]
     },
     "metadata": {},
     "output_type": "display_data"
    },
    {
     "name": "stdout",
     "output_type": "stream",
     "text": [
      "Processing Arson category videos:\n"
     ]
    },
    {
     "data": {
      "application/json": {
       "ascii": false,
       "bar_format": null,
       "colour": null,
       "elapsed": 0.05499744415283203,
       "initial": 0,
       "n": 0,
       "ncols": null,
       "nrows": 29,
       "postfix": null,
       "prefix": "",
       "rate": null,
       "total": 75,
       "unit": "it",
       "unit_divisor": 1000,
       "unit_scale": false
      },
      "application/vnd.jupyter.widget-view+json": {
       "model_id": "6b259c6c18e6465f8e11fb93b452b5f6",
       "version_major": 2,
       "version_minor": 0
      },
      "text/plain": [
       "  0%|          | 0/75 [00:00<?, ?it/s]"
      ]
     },
     "metadata": {},
     "output_type": "display_data"
    },
    {
     "name": "stdout",
     "output_type": "stream",
     "text": [
      "Processing Assault category videos:\n"
     ]
    },
    {
     "data": {
      "application/json": {
       "ascii": false,
       "bar_format": null,
       "colour": null,
       "elapsed": 0.06000065803527832,
       "initial": 0,
       "n": 0,
       "ncols": null,
       "nrows": 29,
       "postfix": null,
       "prefix": "",
       "rate": null,
       "total": 61,
       "unit": "it",
       "unit_divisor": 1000,
       "unit_scale": false
      },
      "application/vnd.jupyter.widget-view+json": {
       "model_id": "dd5813c66d9c4aa0828424387204f247",
       "version_major": 2,
       "version_minor": 0
      },
      "text/plain": [
       "  0%|          | 0/61 [00:00<?, ?it/s]"
      ]
     },
     "metadata": {},
     "output_type": "display_data"
    },
    {
     "name": "stdout",
     "output_type": "stream",
     "text": [
      "Processing Burglary category videos:\n"
     ]
    },
    {
     "data": {
      "application/json": {
       "ascii": false,
       "bar_format": null,
       "colour": null,
       "elapsed": 0.07297754287719727,
       "initial": 0,
       "n": 0,
       "ncols": null,
       "nrows": 29,
       "postfix": null,
       "prefix": "",
       "rate": null,
       "total": 108,
       "unit": "it",
       "unit_divisor": 1000,
       "unit_scale": false
      },
      "application/vnd.jupyter.widget-view+json": {
       "model_id": "1270dc236f604922a3ba473d728b9d07",
       "version_major": 2,
       "version_minor": 0
      },
      "text/plain": [
       "  0%|          | 0/108 [00:00<?, ?it/s]"
      ]
     },
     "metadata": {},
     "output_type": "display_data"
    },
    {
     "name": "stdout",
     "output_type": "stream",
     "text": [
      "Processing Explosion category videos:\n"
     ]
    },
    {
     "data": {
      "application/json": {
       "ascii": false,
       "bar_format": null,
       "colour": null,
       "elapsed": 0.050054073333740234,
       "initial": 0,
       "n": 0,
       "ncols": null,
       "nrows": 29,
       "postfix": null,
       "prefix": "",
       "rate": null,
       "total": 50,
       "unit": "it",
       "unit_divisor": 1000,
       "unit_scale": false
      },
      "application/vnd.jupyter.widget-view+json": {
       "model_id": "46256f060fec4f5a9e96d88432c896ee",
       "version_major": 2,
       "version_minor": 0
      },
      "text/plain": [
       "  0%|          | 0/50 [00:00<?, ?it/s]"
      ]
     },
     "metadata": {},
     "output_type": "display_data"
    },
    {
     "name": "stdout",
     "output_type": "stream",
     "text": [
      "Processing Fighting category videos:\n"
     ]
    },
    {
     "data": {
      "application/json": {
       "ascii": false,
       "bar_format": null,
       "colour": null,
       "elapsed": 0.09599900245666504,
       "initial": 0,
       "n": 0,
       "ncols": null,
       "nrows": 29,
       "postfix": null,
       "prefix": "",
       "rate": null,
       "total": 68,
       "unit": "it",
       "unit_divisor": 1000,
       "unit_scale": false
      },
      "application/vnd.jupyter.widget-view+json": {
       "model_id": "315c7906d3d74066a4aa781602246c51",
       "version_major": 2,
       "version_minor": 0
      },
      "text/plain": [
       "  0%|          | 0/68 [00:00<?, ?it/s]"
      ]
     },
     "metadata": {},
     "output_type": "display_data"
    },
    {
     "name": "stdout",
     "output_type": "stream",
     "text": [
      "Processing Normal category videos:\n"
     ]
    },
    {
     "data": {
      "application/json": {
       "ascii": false,
       "bar_format": null,
       "colour": null,
       "elapsed": 0.04564213752746582,
       "initial": 0,
       "n": 0,
       "ncols": null,
       "nrows": 29,
       "postfix": null,
       "prefix": "",
       "rate": null,
       "total": 1032,
       "unit": "it",
       "unit_divisor": 1000,
       "unit_scale": false
      },
      "application/vnd.jupyter.widget-view+json": {
       "model_id": "4f8298eaebb74ad2b9286dc597da4c7a",
       "version_major": 2,
       "version_minor": 0
      },
      "text/plain": [
       "  0%|          | 0/1032 [00:00<?, ?it/s]"
      ]
     },
     "metadata": {},
     "output_type": "display_data"
    },
    {
     "name": "stdout",
     "output_type": "stream",
     "text": [
      "Processing RoadAccidents category videos:\n"
     ]
    },
    {
     "data": {
      "application/json": {
       "ascii": false,
       "bar_format": null,
       "colour": null,
       "elapsed": 0.0769951343536377,
       "initial": 0,
       "n": 0,
       "ncols": null,
       "nrows": 29,
       "postfix": null,
       "prefix": "",
       "rate": null,
       "total": 161,
       "unit": "it",
       "unit_divisor": 1000,
       "unit_scale": false
      },
      "application/vnd.jupyter.widget-view+json": {
       "model_id": "dc1955be45e74036bb6d03e9ff0fbbbd",
       "version_major": 2,
       "version_minor": 0
      },
      "text/plain": [
       "  0%|          | 0/161 [00:00<?, ?it/s]"
      ]
     },
     "metadata": {},
     "output_type": "display_data"
    },
    {
     "name": "stdout",
     "output_type": "stream",
     "text": [
      "Processing Robbery category videos:\n"
     ]
    },
    {
     "data": {
      "application/json": {
       "ascii": false,
       "bar_format": null,
       "colour": null,
       "elapsed": 0.053003549575805664,
       "initial": 0,
       "n": 0,
       "ncols": null,
       "nrows": 29,
       "postfix": null,
       "prefix": "",
       "rate": null,
       "total": 151,
       "unit": "it",
       "unit_divisor": 1000,
       "unit_scale": false
      },
      "application/vnd.jupyter.widget-view+json": {
       "model_id": "eb494d6c22424795a6aae038b59517c9",
       "version_major": 2,
       "version_minor": 0
      },
      "text/plain": [
       "  0%|          | 0/151 [00:00<?, ?it/s]"
      ]
     },
     "metadata": {},
     "output_type": "display_data"
    },
    {
     "name": "stdout",
     "output_type": "stream",
     "text": [
      "Processing Shooting category videos:\n"
     ]
    },
    {
     "data": {
      "application/json": {
       "ascii": false,
       "bar_format": null,
       "colour": null,
       "elapsed": 0.06100201606750488,
       "initial": 0,
       "n": 0,
       "ncols": null,
       "nrows": 29,
       "postfix": null,
       "prefix": "",
       "rate": null,
       "total": 55,
       "unit": "it",
       "unit_divisor": 1000,
       "unit_scale": false
      },
      "application/vnd.jupyter.widget-view+json": {
       "model_id": "01911a6be9d74aefb1ee50b6f34338e6",
       "version_major": 2,
       "version_minor": 0
      },
      "text/plain": [
       "  0%|          | 0/55 [00:00<?, ?it/s]"
      ]
     },
     "metadata": {},
     "output_type": "display_data"
    }
   ],
   "source": [
    "trim_clips(MAX_SEQ_LENGTH=64)"
   ]
  },
  {
   "cell_type": "code",
   "execution_count": null,
   "id": "22efa9f5-c1db-4c36-96ac-1dcb8f7152bc",
   "metadata": {},
   "outputs": [],
   "source": []
  },
  {
   "cell_type": "markdown",
   "id": "52a1bdcd-b7ac-436a-9c68-f967cf6679ad",
   "metadata": {},
   "source": [
    "## Creating dataframe of filenames and their labels"
   ]
  },
  {
   "cell_type": "code",
   "execution_count": 2,
   "id": "e52d9bcd-7209-425d-b2af-49c4cc195240",
   "metadata": {},
   "outputs": [
    {
     "data": {
      "text/html": [
       "<div>\n",
       "<style scoped>\n",
       "    .dataframe tbody tr th:only-of-type {\n",
       "        vertical-align: middle;\n",
       "    }\n",
       "\n",
       "    .dataframe tbody tr th {\n",
       "        vertical-align: top;\n",
       "    }\n",
       "\n",
       "    .dataframe thead th {\n",
       "        text-align: right;\n",
       "    }\n",
       "</style>\n",
       "<table border=\"1\" class=\"dataframe\">\n",
       "  <thead>\n",
       "    <tr style=\"text-align: right;\">\n",
       "      <th></th>\n",
       "      <th>label</th>\n",
       "      <th>filepath</th>\n",
       "    </tr>\n",
       "  </thead>\n",
       "  <tbody>\n",
       "    <tr>\n",
       "      <th>0</th>\n",
       "      <td>Abuse</td>\n",
       "      <td>Data/Trimmed-Videos/Abuse/Abuse001_x264_0_0.mp4</td>\n",
       "    </tr>\n",
       "    <tr>\n",
       "      <th>1</th>\n",
       "      <td>Abuse</td>\n",
       "      <td>Data/Trimmed-Videos/Abuse/Abuse001_x264_0_1.mp4</td>\n",
       "    </tr>\n",
       "    <tr>\n",
       "      <th>2</th>\n",
       "      <td>Abuse</td>\n",
       "      <td>Data/Trimmed-Videos/Abuse/Abuse001_x264_0_2.mp4</td>\n",
       "    </tr>\n",
       "    <tr>\n",
       "      <th>3</th>\n",
       "      <td>Abuse</td>\n",
       "      <td>Data/Trimmed-Videos/Abuse/Abuse001_x264_1_0.mp4</td>\n",
       "    </tr>\n",
       "    <tr>\n",
       "      <th>4</th>\n",
       "      <td>Abuse</td>\n",
       "      <td>Data/Trimmed-Videos/Abuse/Abuse001_x264_1_1.mp4</td>\n",
       "    </tr>\n",
       "    <tr>\n",
       "      <th>...</th>\n",
       "      <td>...</td>\n",
       "      <td>...</td>\n",
       "    </tr>\n",
       "    <tr>\n",
       "      <th>32701</th>\n",
       "      <td>Shooting</td>\n",
       "      <td>Data/Trimmed-Videos/Shooting/Shooting053_x264_...</td>\n",
       "    </tr>\n",
       "    <tr>\n",
       "      <th>32702</th>\n",
       "      <td>Shooting</td>\n",
       "      <td>Data/Trimmed-Videos/Shooting/Shooting054_x264_...</td>\n",
       "    </tr>\n",
       "    <tr>\n",
       "      <th>32703</th>\n",
       "      <td>Shooting</td>\n",
       "      <td>Data/Trimmed-Videos/Shooting/Shooting054_x264_...</td>\n",
       "    </tr>\n",
       "    <tr>\n",
       "      <th>32704</th>\n",
       "      <td>Shooting</td>\n",
       "      <td>Data/Trimmed-Videos/Shooting/Shooting054_x264_...</td>\n",
       "    </tr>\n",
       "    <tr>\n",
       "      <th>32705</th>\n",
       "      <td>Shooting</td>\n",
       "      <td>Data/Trimmed-Videos/Shooting/Shooting054_x264_...</td>\n",
       "    </tr>\n",
       "  </tbody>\n",
       "</table>\n",
       "<p>32706 rows × 2 columns</p>\n",
       "</div>"
      ],
      "text/plain": [
       "          label                                           filepath\n",
       "0         Abuse    Data/Trimmed-Videos/Abuse/Abuse001_x264_0_0.mp4\n",
       "1         Abuse    Data/Trimmed-Videos/Abuse/Abuse001_x264_0_1.mp4\n",
       "2         Abuse    Data/Trimmed-Videos/Abuse/Abuse001_x264_0_2.mp4\n",
       "3         Abuse    Data/Trimmed-Videos/Abuse/Abuse001_x264_1_0.mp4\n",
       "4         Abuse    Data/Trimmed-Videos/Abuse/Abuse001_x264_1_1.mp4\n",
       "...         ...                                                ...\n",
       "32701  Shooting  Data/Trimmed-Videos/Shooting/Shooting053_x264_...\n",
       "32702  Shooting  Data/Trimmed-Videos/Shooting/Shooting054_x264_...\n",
       "32703  Shooting  Data/Trimmed-Videos/Shooting/Shooting054_x264_...\n",
       "32704  Shooting  Data/Trimmed-Videos/Shooting/Shooting054_x264_...\n",
       "32705  Shooting  Data/Trimmed-Videos/Shooting/Shooting054_x264_...\n",
       "\n",
       "[32706 rows x 2 columns]"
      ]
     },
     "execution_count": 2,
     "metadata": {},
     "output_type": "execute_result"
    }
   ],
   "source": [
    "rooms = []\n",
    "for item in os.listdir('Data/Trimmed-Videos'):\n",
    "     files = os.listdir(f'Data/Trimmed-Videos/{item}')\n",
    "\n",
    "     # Add them to the list\n",
    "     for file in files:\n",
    "            rooms.append((item, f'Data/Trimmed-Videos/{item}/{file}'))\n",
    "    \n",
    "# Build a dataframe        \n",
    "df = pd.DataFrame(data=rooms, columns=['label', 'filepath'])\n",
    "df"
   ]
  },
  {
   "cell_type": "code",
   "execution_count": 3,
   "id": "216086c3-8e98-4814-a701-14b0bd4d2850",
   "metadata": {},
   "outputs": [
    {
     "data": {
      "text/html": [
       "<div>\n",
       "<style scoped>\n",
       "    .dataframe tbody tr th:only-of-type {\n",
       "        vertical-align: middle;\n",
       "    }\n",
       "\n",
       "    .dataframe tbody tr th {\n",
       "        vertical-align: top;\n",
       "    }\n",
       "\n",
       "    .dataframe thead th {\n",
       "        text-align: right;\n",
       "    }\n",
       "</style>\n",
       "<table border=\"1\" class=\"dataframe\">\n",
       "  <thead>\n",
       "    <tr style=\"text-align: right;\">\n",
       "      <th></th>\n",
       "      <th>label</th>\n",
       "      <th>filepath</th>\n",
       "    </tr>\n",
       "  </thead>\n",
       "  <tbody>\n",
       "    <tr>\n",
       "      <th>11951</th>\n",
       "      <td>Normal</td>\n",
       "      <td>Data/Trimmed-Videos/Normal/Normal_Abuse001_x26...</td>\n",
       "    </tr>\n",
       "    <tr>\n",
       "      <th>11952</th>\n",
       "      <td>Normal</td>\n",
       "      <td>Data/Trimmed-Videos/Normal/Normal_Abuse001_x26...</td>\n",
       "    </tr>\n",
       "    <tr>\n",
       "      <th>11953</th>\n",
       "      <td>Normal</td>\n",
       "      <td>Data/Trimmed-Videos/Normal/Normal_Abuse001_x26...</td>\n",
       "    </tr>\n",
       "    <tr>\n",
       "      <th>11954</th>\n",
       "      <td>Normal</td>\n",
       "      <td>Data/Trimmed-Videos/Normal/Normal_Abuse001_x26...</td>\n",
       "    </tr>\n",
       "    <tr>\n",
       "      <th>11955</th>\n",
       "      <td>Normal</td>\n",
       "      <td>Data/Trimmed-Videos/Normal/Normal_Abuse001_x26...</td>\n",
       "    </tr>\n",
       "    <tr>\n",
       "      <th>...</th>\n",
       "      <td>...</td>\n",
       "      <td>...</td>\n",
       "    </tr>\n",
       "    <tr>\n",
       "      <th>27960</th>\n",
       "      <td>Normal</td>\n",
       "      <td>Data/Trimmed-Videos/Normal/Normal_Shooting054_...</td>\n",
       "    </tr>\n",
       "    <tr>\n",
       "      <th>27961</th>\n",
       "      <td>Normal</td>\n",
       "      <td>Data/Trimmed-Videos/Normal/Normal_Shooting054_...</td>\n",
       "    </tr>\n",
       "    <tr>\n",
       "      <th>27962</th>\n",
       "      <td>Normal</td>\n",
       "      <td>Data/Trimmed-Videos/Normal/Normal_Shooting054_...</td>\n",
       "    </tr>\n",
       "    <tr>\n",
       "      <th>27963</th>\n",
       "      <td>Normal</td>\n",
       "      <td>Data/Trimmed-Videos/Normal/Normal_Shooting054_...</td>\n",
       "    </tr>\n",
       "    <tr>\n",
       "      <th>27964</th>\n",
       "      <td>Normal</td>\n",
       "      <td>Data/Trimmed-Videos/Normal/Normal_Shooting054_...</td>\n",
       "    </tr>\n",
       "  </tbody>\n",
       "</table>\n",
       "<p>16014 rows × 2 columns</p>\n",
       "</div>"
      ],
      "text/plain": [
       "        label                                           filepath\n",
       "11951  Normal  Data/Trimmed-Videos/Normal/Normal_Abuse001_x26...\n",
       "11952  Normal  Data/Trimmed-Videos/Normal/Normal_Abuse001_x26...\n",
       "11953  Normal  Data/Trimmed-Videos/Normal/Normal_Abuse001_x26...\n",
       "11954  Normal  Data/Trimmed-Videos/Normal/Normal_Abuse001_x26...\n",
       "11955  Normal  Data/Trimmed-Videos/Normal/Normal_Abuse001_x26...\n",
       "...       ...                                                ...\n",
       "27960  Normal  Data/Trimmed-Videos/Normal/Normal_Shooting054_...\n",
       "27961  Normal  Data/Trimmed-Videos/Normal/Normal_Shooting054_...\n",
       "27962  Normal  Data/Trimmed-Videos/Normal/Normal_Shooting054_...\n",
       "27963  Normal  Data/Trimmed-Videos/Normal/Normal_Shooting054_...\n",
       "27964  Normal  Data/Trimmed-Videos/Normal/Normal_Shooting054_...\n",
       "\n",
       "[16014 rows x 2 columns]"
      ]
     },
     "execution_count": 3,
     "metadata": {},
     "output_type": "execute_result"
    }
   ],
   "source": [
    "df_normal = df[df['label']=='Normal']\n",
    "df_normal"
   ]
  },
  {
   "cell_type": "code",
   "execution_count": 4,
   "id": "e2c2085b-72cc-47ee-82e3-8b6353a79f9e",
   "metadata": {},
   "outputs": [
    {
     "data": {
      "text/html": [
       "<div>\n",
       "<style scoped>\n",
       "    .dataframe tbody tr th:only-of-type {\n",
       "        vertical-align: middle;\n",
       "    }\n",
       "\n",
       "    .dataframe tbody tr th {\n",
       "        vertical-align: top;\n",
       "    }\n",
       "\n",
       "    .dataframe thead th {\n",
       "        text-align: right;\n",
       "    }\n",
       "</style>\n",
       "<table border=\"1\" class=\"dataframe\">\n",
       "  <thead>\n",
       "    <tr style=\"text-align: right;\">\n",
       "      <th></th>\n",
       "      <th>label</th>\n",
       "      <th>filepath</th>\n",
       "    </tr>\n",
       "  </thead>\n",
       "  <tbody>\n",
       "    <tr>\n",
       "      <th>0</th>\n",
       "      <td>Abuse</td>\n",
       "      <td>Data/Trimmed-Videos/Abuse/Abuse001_x264_0_0.mp4</td>\n",
       "    </tr>\n",
       "    <tr>\n",
       "      <th>1</th>\n",
       "      <td>Abuse</td>\n",
       "      <td>Data/Trimmed-Videos/Abuse/Abuse001_x264_0_1.mp4</td>\n",
       "    </tr>\n",
       "    <tr>\n",
       "      <th>2</th>\n",
       "      <td>Abuse</td>\n",
       "      <td>Data/Trimmed-Videos/Abuse/Abuse001_x264_0_2.mp4</td>\n",
       "    </tr>\n",
       "    <tr>\n",
       "      <th>3</th>\n",
       "      <td>Abuse</td>\n",
       "      <td>Data/Trimmed-Videos/Abuse/Abuse001_x264_1_0.mp4</td>\n",
       "    </tr>\n",
       "    <tr>\n",
       "      <th>4</th>\n",
       "      <td>Abuse</td>\n",
       "      <td>Data/Trimmed-Videos/Abuse/Abuse001_x264_1_1.mp4</td>\n",
       "    </tr>\n",
       "    <tr>\n",
       "      <th>...</th>\n",
       "      <td>...</td>\n",
       "      <td>...</td>\n",
       "    </tr>\n",
       "    <tr>\n",
       "      <th>32701</th>\n",
       "      <td>Shooting</td>\n",
       "      <td>Data/Trimmed-Videos/Shooting/Shooting053_x264_...</td>\n",
       "    </tr>\n",
       "    <tr>\n",
       "      <th>32702</th>\n",
       "      <td>Shooting</td>\n",
       "      <td>Data/Trimmed-Videos/Shooting/Shooting054_x264_...</td>\n",
       "    </tr>\n",
       "    <tr>\n",
       "      <th>32703</th>\n",
       "      <td>Shooting</td>\n",
       "      <td>Data/Trimmed-Videos/Shooting/Shooting054_x264_...</td>\n",
       "    </tr>\n",
       "    <tr>\n",
       "      <th>32704</th>\n",
       "      <td>Shooting</td>\n",
       "      <td>Data/Trimmed-Videos/Shooting/Shooting054_x264_...</td>\n",
       "    </tr>\n",
       "    <tr>\n",
       "      <th>32705</th>\n",
       "      <td>Shooting</td>\n",
       "      <td>Data/Trimmed-Videos/Shooting/Shooting054_x264_...</td>\n",
       "    </tr>\n",
       "  </tbody>\n",
       "</table>\n",
       "<p>16692 rows × 2 columns</p>\n",
       "</div>"
      ],
      "text/plain": [
       "          label                                           filepath\n",
       "0         Abuse    Data/Trimmed-Videos/Abuse/Abuse001_x264_0_0.mp4\n",
       "1         Abuse    Data/Trimmed-Videos/Abuse/Abuse001_x264_0_1.mp4\n",
       "2         Abuse    Data/Trimmed-Videos/Abuse/Abuse001_x264_0_2.mp4\n",
       "3         Abuse    Data/Trimmed-Videos/Abuse/Abuse001_x264_1_0.mp4\n",
       "4         Abuse    Data/Trimmed-Videos/Abuse/Abuse001_x264_1_1.mp4\n",
       "...         ...                                                ...\n",
       "32701  Shooting  Data/Trimmed-Videos/Shooting/Shooting053_x264_...\n",
       "32702  Shooting  Data/Trimmed-Videos/Shooting/Shooting054_x264_...\n",
       "32703  Shooting  Data/Trimmed-Videos/Shooting/Shooting054_x264_...\n",
       "32704  Shooting  Data/Trimmed-Videos/Shooting/Shooting054_x264_...\n",
       "32705  Shooting  Data/Trimmed-Videos/Shooting/Shooting054_x264_...\n",
       "\n",
       "[16692 rows x 2 columns]"
      ]
     },
     "execution_count": 4,
     "metadata": {},
     "output_type": "execute_result"
    }
   ],
   "source": [
    "df_anomaly = df[df['label']!='Normal']\n",
    "df_anomaly"
   ]
  },
  {
   "cell_type": "code",
   "execution_count": 6,
   "id": "5043163f-680b-44e9-9eb0-5a6f3d34f6a8",
   "metadata": {},
   "outputs": [],
   "source": [
    "# Downsampling to balance dataset\n",
    "drop_indices = np.random.choice(df_normal.index, 5000, replace=False)\n",
    "df_normal_subset = df_normal.drop(drop_indices)"
   ]
  },
  {
   "cell_type": "code",
   "execution_count": 7,
   "id": "0ebe1d55-734c-47ee-a517-915482eeeb7a",
   "metadata": {},
   "outputs": [
    {
     "data": {
      "text/html": [
       "<div>\n",
       "<style scoped>\n",
       "    .dataframe tbody tr th:only-of-type {\n",
       "        vertical-align: middle;\n",
       "    }\n",
       "\n",
       "    .dataframe tbody tr th {\n",
       "        vertical-align: top;\n",
       "    }\n",
       "\n",
       "    .dataframe thead th {\n",
       "        text-align: right;\n",
       "    }\n",
       "</style>\n",
       "<table border=\"1\" class=\"dataframe\">\n",
       "  <thead>\n",
       "    <tr style=\"text-align: right;\">\n",
       "      <th></th>\n",
       "      <th>label</th>\n",
       "      <th>filepath</th>\n",
       "    </tr>\n",
       "  </thead>\n",
       "  <tbody>\n",
       "    <tr>\n",
       "      <th>11951</th>\n",
       "      <td>Normal</td>\n",
       "      <td>Data/Trimmed-Videos/Normal/Normal_Abuse001_x26...</td>\n",
       "    </tr>\n",
       "    <tr>\n",
       "      <th>11954</th>\n",
       "      <td>Normal</td>\n",
       "      <td>Data/Trimmed-Videos/Normal/Normal_Abuse001_x26...</td>\n",
       "    </tr>\n",
       "    <tr>\n",
       "      <th>11955</th>\n",
       "      <td>Normal</td>\n",
       "      <td>Data/Trimmed-Videos/Normal/Normal_Abuse001_x26...</td>\n",
       "    </tr>\n",
       "    <tr>\n",
       "      <th>11957</th>\n",
       "      <td>Normal</td>\n",
       "      <td>Data/Trimmed-Videos/Normal/Normal_Abuse001_x26...</td>\n",
       "    </tr>\n",
       "    <tr>\n",
       "      <th>11958</th>\n",
       "      <td>Normal</td>\n",
       "      <td>Data/Trimmed-Videos/Normal/Normal_Abuse001_x26...</td>\n",
       "    </tr>\n",
       "    <tr>\n",
       "      <th>...</th>\n",
       "      <td>...</td>\n",
       "      <td>...</td>\n",
       "    </tr>\n",
       "    <tr>\n",
       "      <th>27958</th>\n",
       "      <td>Normal</td>\n",
       "      <td>Data/Trimmed-Videos/Normal/Normal_Shooting052_...</td>\n",
       "    </tr>\n",
       "    <tr>\n",
       "      <th>27961</th>\n",
       "      <td>Normal</td>\n",
       "      <td>Data/Trimmed-Videos/Normal/Normal_Shooting054_...</td>\n",
       "    </tr>\n",
       "    <tr>\n",
       "      <th>27962</th>\n",
       "      <td>Normal</td>\n",
       "      <td>Data/Trimmed-Videos/Normal/Normal_Shooting054_...</td>\n",
       "    </tr>\n",
       "    <tr>\n",
       "      <th>27963</th>\n",
       "      <td>Normal</td>\n",
       "      <td>Data/Trimmed-Videos/Normal/Normal_Shooting054_...</td>\n",
       "    </tr>\n",
       "    <tr>\n",
       "      <th>27964</th>\n",
       "      <td>Normal</td>\n",
       "      <td>Data/Trimmed-Videos/Normal/Normal_Shooting054_...</td>\n",
       "    </tr>\n",
       "  </tbody>\n",
       "</table>\n",
       "<p>11014 rows × 2 columns</p>\n",
       "</div>"
      ],
      "text/plain": [
       "        label                                           filepath\n",
       "11951  Normal  Data/Trimmed-Videos/Normal/Normal_Abuse001_x26...\n",
       "11954  Normal  Data/Trimmed-Videos/Normal/Normal_Abuse001_x26...\n",
       "11955  Normal  Data/Trimmed-Videos/Normal/Normal_Abuse001_x26...\n",
       "11957  Normal  Data/Trimmed-Videos/Normal/Normal_Abuse001_x26...\n",
       "11958  Normal  Data/Trimmed-Videos/Normal/Normal_Abuse001_x26...\n",
       "...       ...                                                ...\n",
       "27958  Normal  Data/Trimmed-Videos/Normal/Normal_Shooting052_...\n",
       "27961  Normal  Data/Trimmed-Videos/Normal/Normal_Shooting054_...\n",
       "27962  Normal  Data/Trimmed-Videos/Normal/Normal_Shooting054_...\n",
       "27963  Normal  Data/Trimmed-Videos/Normal/Normal_Shooting054_...\n",
       "27964  Normal  Data/Trimmed-Videos/Normal/Normal_Shooting054_...\n",
       "\n",
       "[11014 rows x 2 columns]"
      ]
     },
     "execution_count": 7,
     "metadata": {},
     "output_type": "execute_result"
    }
   ],
   "source": [
    "df_normal_subset"
   ]
  },
  {
   "cell_type": "code",
   "execution_count": 12,
   "id": "24504580-69fc-4847-b333-c4d02b83b62e",
   "metadata": {},
   "outputs": [
    {
     "data": {
      "text/html": [
       "<div>\n",
       "<style scoped>\n",
       "    .dataframe tbody tr th:only-of-type {\n",
       "        vertical-align: middle;\n",
       "    }\n",
       "\n",
       "    .dataframe tbody tr th {\n",
       "        vertical-align: top;\n",
       "    }\n",
       "\n",
       "    .dataframe thead th {\n",
       "        text-align: right;\n",
       "    }\n",
       "</style>\n",
       "<table border=\"1\" class=\"dataframe\">\n",
       "  <thead>\n",
       "    <tr style=\"text-align: right;\">\n",
       "      <th></th>\n",
       "      <th>label</th>\n",
       "      <th>filepath</th>\n",
       "    </tr>\n",
       "  </thead>\n",
       "  <tbody>\n",
       "    <tr>\n",
       "      <th>11951</th>\n",
       "      <td>Normal</td>\n",
       "      <td>Data/Trimmed-Videos/Normal/Normal_Abuse001_x26...</td>\n",
       "    </tr>\n",
       "    <tr>\n",
       "      <th>11954</th>\n",
       "      <td>Normal</td>\n",
       "      <td>Data/Trimmed-Videos/Normal/Normal_Abuse001_x26...</td>\n",
       "    </tr>\n",
       "    <tr>\n",
       "      <th>11955</th>\n",
       "      <td>Normal</td>\n",
       "      <td>Data/Trimmed-Videos/Normal/Normal_Abuse001_x26...</td>\n",
       "    </tr>\n",
       "    <tr>\n",
       "      <th>11957</th>\n",
       "      <td>Normal</td>\n",
       "      <td>Data/Trimmed-Videos/Normal/Normal_Abuse001_x26...</td>\n",
       "    </tr>\n",
       "    <tr>\n",
       "      <th>11958</th>\n",
       "      <td>Normal</td>\n",
       "      <td>Data/Trimmed-Videos/Normal/Normal_Abuse001_x26...</td>\n",
       "    </tr>\n",
       "    <tr>\n",
       "      <th>...</th>\n",
       "      <td>...</td>\n",
       "      <td>...</td>\n",
       "    </tr>\n",
       "    <tr>\n",
       "      <th>32701</th>\n",
       "      <td>Shooting</td>\n",
       "      <td>Data/Trimmed-Videos/Shooting/Shooting053_x264_...</td>\n",
       "    </tr>\n",
       "    <tr>\n",
       "      <th>32702</th>\n",
       "      <td>Shooting</td>\n",
       "      <td>Data/Trimmed-Videos/Shooting/Shooting054_x264_...</td>\n",
       "    </tr>\n",
       "    <tr>\n",
       "      <th>32703</th>\n",
       "      <td>Shooting</td>\n",
       "      <td>Data/Trimmed-Videos/Shooting/Shooting054_x264_...</td>\n",
       "    </tr>\n",
       "    <tr>\n",
       "      <th>32704</th>\n",
       "      <td>Shooting</td>\n",
       "      <td>Data/Trimmed-Videos/Shooting/Shooting054_x264_...</td>\n",
       "    </tr>\n",
       "    <tr>\n",
       "      <th>32705</th>\n",
       "      <td>Shooting</td>\n",
       "      <td>Data/Trimmed-Videos/Shooting/Shooting054_x264_...</td>\n",
       "    </tr>\n",
       "  </tbody>\n",
       "</table>\n",
       "<p>27706 rows × 2 columns</p>\n",
       "</div>"
      ],
      "text/plain": [
       "          label                                           filepath\n",
       "11951    Normal  Data/Trimmed-Videos/Normal/Normal_Abuse001_x26...\n",
       "11954    Normal  Data/Trimmed-Videos/Normal/Normal_Abuse001_x26...\n",
       "11955    Normal  Data/Trimmed-Videos/Normal/Normal_Abuse001_x26...\n",
       "11957    Normal  Data/Trimmed-Videos/Normal/Normal_Abuse001_x26...\n",
       "11958    Normal  Data/Trimmed-Videos/Normal/Normal_Abuse001_x26...\n",
       "...         ...                                                ...\n",
       "32701  Shooting  Data/Trimmed-Videos/Shooting/Shooting053_x264_...\n",
       "32702  Shooting  Data/Trimmed-Videos/Shooting/Shooting054_x264_...\n",
       "32703  Shooting  Data/Trimmed-Videos/Shooting/Shooting054_x264_...\n",
       "32704  Shooting  Data/Trimmed-Videos/Shooting/Shooting054_x264_...\n",
       "32705  Shooting  Data/Trimmed-Videos/Shooting/Shooting054_x264_...\n",
       "\n",
       "[27706 rows x 2 columns]"
      ]
     },
     "execution_count": 12,
     "metadata": {},
     "output_type": "execute_result"
    }
   ],
   "source": [
    "df_final = pd.concat([df_normal_subset, df_anomaly])\n",
    "df_final"
   ]
  },
  {
   "cell_type": "code",
   "execution_count": 13,
   "id": "74a1f08b-6470-48b3-9afe-1ed44fa5648a",
   "metadata": {},
   "outputs": [
    {
     "data": {
      "text/html": [
       "<div>\n",
       "<style scoped>\n",
       "    .dataframe tbody tr th:only-of-type {\n",
       "        vertical-align: middle;\n",
       "    }\n",
       "\n",
       "    .dataframe tbody tr th {\n",
       "        vertical-align: top;\n",
       "    }\n",
       "\n",
       "    .dataframe thead th {\n",
       "        text-align: right;\n",
       "    }\n",
       "</style>\n",
       "<table border=\"1\" class=\"dataframe\">\n",
       "  <thead>\n",
       "    <tr style=\"text-align: right;\">\n",
       "      <th></th>\n",
       "      <th>label</th>\n",
       "      <th>filepath</th>\n",
       "    </tr>\n",
       "  </thead>\n",
       "  <tbody>\n",
       "    <tr>\n",
       "      <th>0</th>\n",
       "      <td>Normal</td>\n",
       "      <td>Data/Trimmed-Videos/Normal/Normal_Abuse001_x26...</td>\n",
       "    </tr>\n",
       "    <tr>\n",
       "      <th>1</th>\n",
       "      <td>Normal</td>\n",
       "      <td>Data/Trimmed-Videos/Normal/Normal_Abuse001_x26...</td>\n",
       "    </tr>\n",
       "    <tr>\n",
       "      <th>2</th>\n",
       "      <td>Normal</td>\n",
       "      <td>Data/Trimmed-Videos/Normal/Normal_Abuse001_x26...</td>\n",
       "    </tr>\n",
       "    <tr>\n",
       "      <th>3</th>\n",
       "      <td>Normal</td>\n",
       "      <td>Data/Trimmed-Videos/Normal/Normal_Abuse001_x26...</td>\n",
       "    </tr>\n",
       "    <tr>\n",
       "      <th>4</th>\n",
       "      <td>Normal</td>\n",
       "      <td>Data/Trimmed-Videos/Normal/Normal_Abuse001_x26...</td>\n",
       "    </tr>\n",
       "    <tr>\n",
       "      <th>...</th>\n",
       "      <td>...</td>\n",
       "      <td>...</td>\n",
       "    </tr>\n",
       "    <tr>\n",
       "      <th>27701</th>\n",
       "      <td>Shooting</td>\n",
       "      <td>Data/Trimmed-Videos/Shooting/Shooting053_x264_...</td>\n",
       "    </tr>\n",
       "    <tr>\n",
       "      <th>27702</th>\n",
       "      <td>Shooting</td>\n",
       "      <td>Data/Trimmed-Videos/Shooting/Shooting054_x264_...</td>\n",
       "    </tr>\n",
       "    <tr>\n",
       "      <th>27703</th>\n",
       "      <td>Shooting</td>\n",
       "      <td>Data/Trimmed-Videos/Shooting/Shooting054_x264_...</td>\n",
       "    </tr>\n",
       "    <tr>\n",
       "      <th>27704</th>\n",
       "      <td>Shooting</td>\n",
       "      <td>Data/Trimmed-Videos/Shooting/Shooting054_x264_...</td>\n",
       "    </tr>\n",
       "    <tr>\n",
       "      <th>27705</th>\n",
       "      <td>Shooting</td>\n",
       "      <td>Data/Trimmed-Videos/Shooting/Shooting054_x264_...</td>\n",
       "    </tr>\n",
       "  </tbody>\n",
       "</table>\n",
       "<p>27706 rows × 2 columns</p>\n",
       "</div>"
      ],
      "text/plain": [
       "          label                                           filepath\n",
       "0        Normal  Data/Trimmed-Videos/Normal/Normal_Abuse001_x26...\n",
       "1        Normal  Data/Trimmed-Videos/Normal/Normal_Abuse001_x26...\n",
       "2        Normal  Data/Trimmed-Videos/Normal/Normal_Abuse001_x26...\n",
       "3        Normal  Data/Trimmed-Videos/Normal/Normal_Abuse001_x26...\n",
       "4        Normal  Data/Trimmed-Videos/Normal/Normal_Abuse001_x26...\n",
       "...         ...                                                ...\n",
       "27701  Shooting  Data/Trimmed-Videos/Shooting/Shooting053_x264_...\n",
       "27702  Shooting  Data/Trimmed-Videos/Shooting/Shooting054_x264_...\n",
       "27703  Shooting  Data/Trimmed-Videos/Shooting/Shooting054_x264_...\n",
       "27704  Shooting  Data/Trimmed-Videos/Shooting/Shooting054_x264_...\n",
       "27705  Shooting  Data/Trimmed-Videos/Shooting/Shooting054_x264_...\n",
       "\n",
       "[27706 rows x 2 columns]"
      ]
     },
     "execution_count": 13,
     "metadata": {},
     "output_type": "execute_result"
    }
   ],
   "source": [
    "df_final = df_final.reset_index(drop=True)\n",
    "df_final"
   ]
  },
  {
   "cell_type": "code",
   "execution_count": 15,
   "id": "1f469a02-b934-454a-8f4f-be75db02e684",
   "metadata": {},
   "outputs": [
    {
     "data": {
      "text/html": [
       "<div>\n",
       "<style scoped>\n",
       "    .dataframe tbody tr th:only-of-type {\n",
       "        vertical-align: middle;\n",
       "    }\n",
       "\n",
       "    .dataframe tbody tr th {\n",
       "        vertical-align: top;\n",
       "    }\n",
       "\n",
       "    .dataframe thead th {\n",
       "        text-align: right;\n",
       "    }\n",
       "</style>\n",
       "<table border=\"1\" class=\"dataframe\">\n",
       "  <thead>\n",
       "    <tr style=\"text-align: right;\">\n",
       "      <th></th>\n",
       "      <th>label</th>\n",
       "      <th>filepath</th>\n",
       "    </tr>\n",
       "  </thead>\n",
       "  <tbody>\n",
       "    <tr>\n",
       "      <th>4174</th>\n",
       "      <td>Normal</td>\n",
       "      <td>Data/Trimmed-Videos/Normal/Normal_Explosion040...</td>\n",
       "    </tr>\n",
       "    <tr>\n",
       "      <th>27540</th>\n",
       "      <td>Shooting</td>\n",
       "      <td>Data/Trimmed-Videos/Shooting/Shooting046_x264_...</td>\n",
       "    </tr>\n",
       "    <tr>\n",
       "      <th>18735</th>\n",
       "      <td>Burglary</td>\n",
       "      <td>Data/Trimmed-Videos/Burglary/Burglary095_x264_...</td>\n",
       "    </tr>\n",
       "    <tr>\n",
       "      <th>20713</th>\n",
       "      <td>Explosion</td>\n",
       "      <td>Data/Trimmed-Videos/Explosion/Explosion046_x26...</td>\n",
       "    </tr>\n",
       "    <tr>\n",
       "      <th>5863</th>\n",
       "      <td>Normal</td>\n",
       "      <td>Data/Trimmed-Videos/Normal/Normal_Fighting041_...</td>\n",
       "    </tr>\n",
       "    <tr>\n",
       "      <th>...</th>\n",
       "      <td>...</td>\n",
       "      <td>...</td>\n",
       "    </tr>\n",
       "    <tr>\n",
       "      <th>9706</th>\n",
       "      <td>Normal</td>\n",
       "      <td>Data/Trimmed-Videos/Normal/Normal_Robbery112_x...</td>\n",
       "    </tr>\n",
       "    <tr>\n",
       "      <th>13310</th>\n",
       "      <td>Assault</td>\n",
       "      <td>Data/Trimmed-Videos/Assault/Assault008_x264_0_...</td>\n",
       "    </tr>\n",
       "    <tr>\n",
       "      <th>1796</th>\n",
       "      <td>Normal</td>\n",
       "      <td>Data/Trimmed-Videos/Normal/Normal_Arson019_x26...</td>\n",
       "    </tr>\n",
       "    <tr>\n",
       "      <th>12275</th>\n",
       "      <td>Arson</td>\n",
       "      <td>Data/Trimmed-Videos/Arson/Arson019_x264_0_20.mp4</td>\n",
       "    </tr>\n",
       "    <tr>\n",
       "      <th>20683</th>\n",
       "      <td>Explosion</td>\n",
       "      <td>Data/Trimmed-Videos/Explosion/Explosion046_x26...</td>\n",
       "    </tr>\n",
       "  </tbody>\n",
       "</table>\n",
       "<p>27706 rows × 2 columns</p>\n",
       "</div>"
      ],
      "text/plain": [
       "           label                                           filepath\n",
       "4174      Normal  Data/Trimmed-Videos/Normal/Normal_Explosion040...\n",
       "27540   Shooting  Data/Trimmed-Videos/Shooting/Shooting046_x264_...\n",
       "18735   Burglary  Data/Trimmed-Videos/Burglary/Burglary095_x264_...\n",
       "20713  Explosion  Data/Trimmed-Videos/Explosion/Explosion046_x26...\n",
       "5863      Normal  Data/Trimmed-Videos/Normal/Normal_Fighting041_...\n",
       "...          ...                                                ...\n",
       "9706      Normal  Data/Trimmed-Videos/Normal/Normal_Robbery112_x...\n",
       "13310    Assault  Data/Trimmed-Videos/Assault/Assault008_x264_0_...\n",
       "1796      Normal  Data/Trimmed-Videos/Normal/Normal_Arson019_x26...\n",
       "12275      Arson   Data/Trimmed-Videos/Arson/Arson019_x264_0_20.mp4\n",
       "20683  Explosion  Data/Trimmed-Videos/Explosion/Explosion046_x26...\n",
       "\n",
       "[27706 rows x 2 columns]"
      ]
     },
     "execution_count": 15,
     "metadata": {},
     "output_type": "execute_result"
    }
   ],
   "source": [
    "# shuffle the DataFrame rows\n",
    "df_final = df_final.sample(frac = 1)\n",
    "df_final"
   ]
  },
  {
   "cell_type": "code",
   "execution_count": 16,
   "id": "201253a8-98b4-44bf-82d3-75d910beb37a",
   "metadata": {},
   "outputs": [
    {
     "data": {
      "text/html": [
       "<div>\n",
       "<style scoped>\n",
       "    .dataframe tbody tr th:only-of-type {\n",
       "        vertical-align: middle;\n",
       "    }\n",
       "\n",
       "    .dataframe tbody tr th {\n",
       "        vertical-align: top;\n",
       "    }\n",
       "\n",
       "    .dataframe thead th {\n",
       "        text-align: right;\n",
       "    }\n",
       "</style>\n",
       "<table border=\"1\" class=\"dataframe\">\n",
       "  <thead>\n",
       "    <tr style=\"text-align: right;\">\n",
       "      <th></th>\n",
       "      <th>label</th>\n",
       "      <th>filepath</th>\n",
       "    </tr>\n",
       "  </thead>\n",
       "  <tbody>\n",
       "    <tr>\n",
       "      <th>0</th>\n",
       "      <td>Normal</td>\n",
       "      <td>Data/Trimmed-Videos/Normal/Normal_Explosion040...</td>\n",
       "    </tr>\n",
       "    <tr>\n",
       "      <th>1</th>\n",
       "      <td>Shooting</td>\n",
       "      <td>Data/Trimmed-Videos/Shooting/Shooting046_x264_...</td>\n",
       "    </tr>\n",
       "    <tr>\n",
       "      <th>2</th>\n",
       "      <td>Burglary</td>\n",
       "      <td>Data/Trimmed-Videos/Burglary/Burglary095_x264_...</td>\n",
       "    </tr>\n",
       "    <tr>\n",
       "      <th>3</th>\n",
       "      <td>Explosion</td>\n",
       "      <td>Data/Trimmed-Videos/Explosion/Explosion046_x26...</td>\n",
       "    </tr>\n",
       "    <tr>\n",
       "      <th>4</th>\n",
       "      <td>Normal</td>\n",
       "      <td>Data/Trimmed-Videos/Normal/Normal_Fighting041_...</td>\n",
       "    </tr>\n",
       "    <tr>\n",
       "      <th>...</th>\n",
       "      <td>...</td>\n",
       "      <td>...</td>\n",
       "    </tr>\n",
       "    <tr>\n",
       "      <th>27701</th>\n",
       "      <td>Normal</td>\n",
       "      <td>Data/Trimmed-Videos/Normal/Normal_Robbery112_x...</td>\n",
       "    </tr>\n",
       "    <tr>\n",
       "      <th>27702</th>\n",
       "      <td>Assault</td>\n",
       "      <td>Data/Trimmed-Videos/Assault/Assault008_x264_0_...</td>\n",
       "    </tr>\n",
       "    <tr>\n",
       "      <th>27703</th>\n",
       "      <td>Normal</td>\n",
       "      <td>Data/Trimmed-Videos/Normal/Normal_Arson019_x26...</td>\n",
       "    </tr>\n",
       "    <tr>\n",
       "      <th>27704</th>\n",
       "      <td>Arson</td>\n",
       "      <td>Data/Trimmed-Videos/Arson/Arson019_x264_0_20.mp4</td>\n",
       "    </tr>\n",
       "    <tr>\n",
       "      <th>27705</th>\n",
       "      <td>Explosion</td>\n",
       "      <td>Data/Trimmed-Videos/Explosion/Explosion046_x26...</td>\n",
       "    </tr>\n",
       "  </tbody>\n",
       "</table>\n",
       "<p>27706 rows × 2 columns</p>\n",
       "</div>"
      ],
      "text/plain": [
       "           label                                           filepath\n",
       "0         Normal  Data/Trimmed-Videos/Normal/Normal_Explosion040...\n",
       "1       Shooting  Data/Trimmed-Videos/Shooting/Shooting046_x264_...\n",
       "2       Burglary  Data/Trimmed-Videos/Burglary/Burglary095_x264_...\n",
       "3      Explosion  Data/Trimmed-Videos/Explosion/Explosion046_x26...\n",
       "4         Normal  Data/Trimmed-Videos/Normal/Normal_Fighting041_...\n",
       "...          ...                                                ...\n",
       "27701     Normal  Data/Trimmed-Videos/Normal/Normal_Robbery112_x...\n",
       "27702    Assault  Data/Trimmed-Videos/Assault/Assault008_x264_0_...\n",
       "27703     Normal  Data/Trimmed-Videos/Normal/Normal_Arson019_x26...\n",
       "27704      Arson   Data/Trimmed-Videos/Arson/Arson019_x264_0_20.mp4\n",
       "27705  Explosion  Data/Trimmed-Videos/Explosion/Explosion046_x26...\n",
       "\n",
       "[27706 rows x 2 columns]"
      ]
     },
     "execution_count": 16,
     "metadata": {},
     "output_type": "execute_result"
    }
   ],
   "source": [
    "df_final = df_final.reset_index(drop=True)\n",
    "df_final"
   ]
  },
  {
   "cell_type": "code",
   "execution_count": 17,
   "id": "2a69e38e-ba8a-4d5b-a568-4f200e722adf",
   "metadata": {},
   "outputs": [],
   "source": [
    "test_size = 5000"
   ]
  },
  {
   "cell_type": "code",
   "execution_count": 32,
   "id": "1b02f7ff-46d6-42f3-b6fe-4bb0993a2bff",
   "metadata": {},
   "outputs": [
    {
     "data": {
      "text/html": [
       "<div>\n",
       "<style scoped>\n",
       "    .dataframe tbody tr th:only-of-type {\n",
       "        vertical-align: middle;\n",
       "    }\n",
       "\n",
       "    .dataframe tbody tr th {\n",
       "        vertical-align: top;\n",
       "    }\n",
       "\n",
       "    .dataframe thead th {\n",
       "        text-align: right;\n",
       "    }\n",
       "</style>\n",
       "<table border=\"1\" class=\"dataframe\">\n",
       "  <thead>\n",
       "    <tr style=\"text-align: right;\">\n",
       "      <th></th>\n",
       "      <th>label</th>\n",
       "      <th>filepath</th>\n",
       "    </tr>\n",
       "  </thead>\n",
       "  <tbody>\n",
       "    <tr>\n",
       "      <th>0</th>\n",
       "      <td>Normal</td>\n",
       "      <td>Data/Trimmed-Videos/Normal/Normal_Explosion040...</td>\n",
       "    </tr>\n",
       "    <tr>\n",
       "      <th>1</th>\n",
       "      <td>Shooting</td>\n",
       "      <td>Data/Trimmed-Videos/Shooting/Shooting046_x264_...</td>\n",
       "    </tr>\n",
       "    <tr>\n",
       "      <th>2</th>\n",
       "      <td>Burglary</td>\n",
       "      <td>Data/Trimmed-Videos/Burglary/Burglary095_x264_...</td>\n",
       "    </tr>\n",
       "    <tr>\n",
       "      <th>3</th>\n",
       "      <td>Explosion</td>\n",
       "      <td>Data/Trimmed-Videos/Explosion/Explosion046_x26...</td>\n",
       "    </tr>\n",
       "    <tr>\n",
       "      <th>4</th>\n",
       "      <td>Normal</td>\n",
       "      <td>Data/Trimmed-Videos/Normal/Normal_Fighting041_...</td>\n",
       "    </tr>\n",
       "    <tr>\n",
       "      <th>...</th>\n",
       "      <td>...</td>\n",
       "      <td>...</td>\n",
       "    </tr>\n",
       "    <tr>\n",
       "      <th>4995</th>\n",
       "      <td>Normal</td>\n",
       "      <td>Data/Trimmed-Videos/Normal/Normal_Robbery032_x...</td>\n",
       "    </tr>\n",
       "    <tr>\n",
       "      <th>4996</th>\n",
       "      <td>Normal</td>\n",
       "      <td>Data/Trimmed-Videos/Normal/Normal_Fighting048_...</td>\n",
       "    </tr>\n",
       "    <tr>\n",
       "      <th>4997</th>\n",
       "      <td>Normal</td>\n",
       "      <td>Data/Trimmed-Videos/Normal/Normal_Abuse039_x26...</td>\n",
       "    </tr>\n",
       "    <tr>\n",
       "      <th>4998</th>\n",
       "      <td>Normal</td>\n",
       "      <td>Data/Trimmed-Videos/Normal/Normal_Burglary083_...</td>\n",
       "    </tr>\n",
       "    <tr>\n",
       "      <th>4999</th>\n",
       "      <td>Burglary</td>\n",
       "      <td>Data/Trimmed-Videos/Burglary/Burglary023_x264_...</td>\n",
       "    </tr>\n",
       "  </tbody>\n",
       "</table>\n",
       "<p>5000 rows × 2 columns</p>\n",
       "</div>"
      ],
      "text/plain": [
       "          label                                           filepath\n",
       "0        Normal  Data/Trimmed-Videos/Normal/Normal_Explosion040...\n",
       "1      Shooting  Data/Trimmed-Videos/Shooting/Shooting046_x264_...\n",
       "2      Burglary  Data/Trimmed-Videos/Burglary/Burglary095_x264_...\n",
       "3     Explosion  Data/Trimmed-Videos/Explosion/Explosion046_x26...\n",
       "4        Normal  Data/Trimmed-Videos/Normal/Normal_Fighting041_...\n",
       "...         ...                                                ...\n",
       "4995     Normal  Data/Trimmed-Videos/Normal/Normal_Robbery032_x...\n",
       "4996     Normal  Data/Trimmed-Videos/Normal/Normal_Fighting048_...\n",
       "4997     Normal  Data/Trimmed-Videos/Normal/Normal_Abuse039_x26...\n",
       "4998     Normal  Data/Trimmed-Videos/Normal/Normal_Burglary083_...\n",
       "4999   Burglary  Data/Trimmed-Videos/Burglary/Burglary023_x264_...\n",
       "\n",
       "[5000 rows x 2 columns]"
      ]
     },
     "execution_count": 32,
     "metadata": {},
     "output_type": "execute_result"
    }
   ],
   "source": [
    "test_df = df_final.iloc[:5000].reset_index(drop=True)\n",
    "test_df"
   ]
  },
  {
   "cell_type": "code",
   "execution_count": 33,
   "id": "e5af730e-7948-4d70-8f0d-f2083f8a0c95",
   "metadata": {},
   "outputs": [
    {
     "data": {
      "text/html": [
       "<div>\n",
       "<style scoped>\n",
       "    .dataframe tbody tr th:only-of-type {\n",
       "        vertical-align: middle;\n",
       "    }\n",
       "\n",
       "    .dataframe tbody tr th {\n",
       "        vertical-align: top;\n",
       "    }\n",
       "\n",
       "    .dataframe thead th {\n",
       "        text-align: right;\n",
       "    }\n",
       "</style>\n",
       "<table border=\"1\" class=\"dataframe\">\n",
       "  <thead>\n",
       "    <tr style=\"text-align: right;\">\n",
       "      <th></th>\n",
       "      <th>label</th>\n",
       "      <th>filepath</th>\n",
       "    </tr>\n",
       "  </thead>\n",
       "  <tbody>\n",
       "    <tr>\n",
       "      <th>0</th>\n",
       "      <td>Explosion</td>\n",
       "      <td>Data/Trimmed-Videos/Explosion/Explosion051_x26...</td>\n",
       "    </tr>\n",
       "    <tr>\n",
       "      <th>1</th>\n",
       "      <td>Normal</td>\n",
       "      <td>Data/Trimmed-Videos/Normal/Normal_Assault010_x...</td>\n",
       "    </tr>\n",
       "    <tr>\n",
       "      <th>2</th>\n",
       "      <td>Normal</td>\n",
       "      <td>Data/Trimmed-Videos/Normal/Normal_Arson010_x26...</td>\n",
       "    </tr>\n",
       "    <tr>\n",
       "      <th>3</th>\n",
       "      <td>Arson</td>\n",
       "      <td>Data/Trimmed-Videos/Arson/Arson051_x264_0_13.mp4</td>\n",
       "    </tr>\n",
       "    <tr>\n",
       "      <th>4</th>\n",
       "      <td>Normal</td>\n",
       "      <td>Data/Trimmed-Videos/Normal/Normal_Explosion046...</td>\n",
       "    </tr>\n",
       "    <tr>\n",
       "      <th>...</th>\n",
       "      <td>...</td>\n",
       "      <td>...</td>\n",
       "    </tr>\n",
       "    <tr>\n",
       "      <th>22701</th>\n",
       "      <td>Normal</td>\n",
       "      <td>Data/Trimmed-Videos/Normal/Normal_Robbery112_x...</td>\n",
       "    </tr>\n",
       "    <tr>\n",
       "      <th>22702</th>\n",
       "      <td>Assault</td>\n",
       "      <td>Data/Trimmed-Videos/Assault/Assault008_x264_0_...</td>\n",
       "    </tr>\n",
       "    <tr>\n",
       "      <th>22703</th>\n",
       "      <td>Normal</td>\n",
       "      <td>Data/Trimmed-Videos/Normal/Normal_Arson019_x26...</td>\n",
       "    </tr>\n",
       "    <tr>\n",
       "      <th>22704</th>\n",
       "      <td>Arson</td>\n",
       "      <td>Data/Trimmed-Videos/Arson/Arson019_x264_0_20.mp4</td>\n",
       "    </tr>\n",
       "    <tr>\n",
       "      <th>22705</th>\n",
       "      <td>Explosion</td>\n",
       "      <td>Data/Trimmed-Videos/Explosion/Explosion046_x26...</td>\n",
       "    </tr>\n",
       "  </tbody>\n",
       "</table>\n",
       "<p>22706 rows × 2 columns</p>\n",
       "</div>"
      ],
      "text/plain": [
       "           label                                           filepath\n",
       "0      Explosion  Data/Trimmed-Videos/Explosion/Explosion051_x26...\n",
       "1         Normal  Data/Trimmed-Videos/Normal/Normal_Assault010_x...\n",
       "2         Normal  Data/Trimmed-Videos/Normal/Normal_Arson010_x26...\n",
       "3          Arson   Data/Trimmed-Videos/Arson/Arson051_x264_0_13.mp4\n",
       "4         Normal  Data/Trimmed-Videos/Normal/Normal_Explosion046...\n",
       "...          ...                                                ...\n",
       "22701     Normal  Data/Trimmed-Videos/Normal/Normal_Robbery112_x...\n",
       "22702    Assault  Data/Trimmed-Videos/Assault/Assault008_x264_0_...\n",
       "22703     Normal  Data/Trimmed-Videos/Normal/Normal_Arson019_x26...\n",
       "22704      Arson   Data/Trimmed-Videos/Arson/Arson019_x264_0_20.mp4\n",
       "22705  Explosion  Data/Trimmed-Videos/Explosion/Explosion046_x26...\n",
       "\n",
       "[22706 rows x 2 columns]"
      ]
     },
     "execution_count": 33,
     "metadata": {},
     "output_type": "execute_result"
    }
   ],
   "source": [
    "train_df = df_final.iloc[5000:].reset_index(drop=True)\n",
    "train_df"
   ]
  },
  {
   "cell_type": "code",
   "execution_count": 34,
   "id": "63803f77-1120-4bbc-a67c-1a48345ef17e",
   "metadata": {},
   "outputs": [],
   "source": [
    "train_df.to_csv(\"Data/train_df.csv\", index=False)"
   ]
  },
  {
   "cell_type": "code",
   "execution_count": 35,
   "id": "d90f2b11-0292-4316-bc24-12bfb8395463",
   "metadata": {},
   "outputs": [],
   "source": [
    "test_df.to_csv(\"Data/test_df.csv\", index=False)"
   ]
  },
  {
   "cell_type": "code",
   "execution_count": null,
   "id": "e7f6b8e9-8038-4deb-9fe8-1fb319cfc511",
   "metadata": {},
   "outputs": [],
   "source": []
  }
 ],
 "metadata": {
  "kernelspec": {
   "display_name": "Python 3 (ipykernel)",
   "language": "python",
   "name": "python3"
  },
  "language_info": {
   "codemirror_mode": {
    "name": "ipython",
    "version": 3
   },
   "file_extension": ".py",
   "mimetype": "text/x-python",
   "name": "python",
   "nbconvert_exporter": "python",
   "pygments_lexer": "ipython3",
   "version": "3.9.9"
  }
 },
 "nbformat": 4,
 "nbformat_minor": 5
}
